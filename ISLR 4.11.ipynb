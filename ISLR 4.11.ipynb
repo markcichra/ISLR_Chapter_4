{
 "cells": [
  {
   "cell_type": "code",
   "execution_count": 13,
   "metadata": {},
   "outputs": [
    {
     "data": {
      "text/html": [
       "<ol class=list-inline>\n",
       "\t<li>392</li>\n",
       "\t<li>9</li>\n",
       "</ol>\n"
      ],
      "text/latex": [
       "\\begin{enumerate*}\n",
       "\\item 392\n",
       "\\item 9\n",
       "\\end{enumerate*}\n"
      ],
      "text/markdown": [
       "1. 392\n",
       "2. 9\n",
       "\n",
       "\n"
      ],
      "text/plain": [
       "[1] 392   9"
      ]
     },
     "metadata": {},
     "output_type": "display_data"
    },
    {
     "data": {
      "text/html": [
       "<ol class=list-inline>\n",
       "\t<li>'mpg'</li>\n",
       "\t<li>'cylinders'</li>\n",
       "\t<li>'displacement'</li>\n",
       "\t<li>'horsepower'</li>\n",
       "\t<li>'weight'</li>\n",
       "\t<li>'acceleration'</li>\n",
       "\t<li>'year'</li>\n",
       "\t<li>'origin'</li>\n",
       "\t<li>'name'</li>\n",
       "</ol>\n"
      ],
      "text/latex": [
       "\\begin{enumerate*}\n",
       "\\item 'mpg'\n",
       "\\item 'cylinders'\n",
       "\\item 'displacement'\n",
       "\\item 'horsepower'\n",
       "\\item 'weight'\n",
       "\\item 'acceleration'\n",
       "\\item 'year'\n",
       "\\item 'origin'\n",
       "\\item 'name'\n",
       "\\end{enumerate*}\n"
      ],
      "text/markdown": [
       "1. 'mpg'\n",
       "2. 'cylinders'\n",
       "3. 'displacement'\n",
       "4. 'horsepower'\n",
       "5. 'weight'\n",
       "6. 'acceleration'\n",
       "7. 'year'\n",
       "8. 'origin'\n",
       "9. 'name'\n",
       "\n",
       "\n"
      ],
      "text/plain": [
       "[1] \"mpg\"          \"cylinders\"    \"displacement\" \"horsepower\"   \"weight\"      \n",
       "[6] \"acceleration\" \"year\"         \"origin\"       \"name\"        "
      ]
     },
     "metadata": {},
     "output_type": "display_data"
    }
   ],
   "source": [
    "library(ISLR)\n",
    "library(MASS)\n",
    "library(class)\n",
    "dim(Auto)\n",
    "names(Auto)"
   ]
  },
  {
   "cell_type": "code",
   "execution_count": 22,
   "metadata": {
    "scrolled": true
   },
   "outputs": [
    {
     "name": "stderr",
     "output_type": "stream",
     "text": [
      "The following object is masked _by_ .GlobalEnv:\n",
      "\n",
      "    mpg01\n",
      "\n",
      "The following objects are masked from Auto01 (pos = 3):\n",
      "\n",
      "    acceleration, cylinders, displacement, horsepower, mpg, mpg01,\n",
      "    name, origin, weight, year\n",
      "\n",
      "The following objects are masked from Auto01 (pos = 4):\n",
      "\n",
      "    acceleration, cylinders, displacement, horsepower, mpg, mpg01,\n",
      "    name, origin, weight, year\n",
      "\n",
      "The following objects are masked from Auto01 (pos = 5):\n",
      "\n",
      "    acceleration, cylinders, displacement, horsepower, mpg, mpg01,\n",
      "    name, origin, weight, year\n",
      "\n",
      "The following objects are masked from Auto01 (pos = 6):\n",
      "\n",
      "    acceleration, cylinders, displacement, horsepower, mpg, mpg01,\n",
      "    name, origin, weight, year\n",
      "\n",
      "The following objects are masked from Auto01 (pos = 7):\n",
      "\n",
      "    acceleration, cylinders, displacement, horsepower, mpg, mpg01,\n",
      "    name, origin, weight, year\n",
      "\n",
      "The following objects are masked from Auto01 (pos = 8):\n",
      "\n",
      "    acceleration, cylinders, displacement, horsepower, mpg, mpg01,\n",
      "    name, origin, weight, year\n",
      "\n"
     ]
    },
    {
     "data": {
      "text/plain": [
       "      mpg          cylinders      displacement     horsepower        weight    \n",
       " Min.   : 9.00   Min.   :3.000   Min.   : 68.0   Min.   : 46.0   Min.   :1613  \n",
       " 1st Qu.:17.00   1st Qu.:4.000   1st Qu.:105.0   1st Qu.: 75.0   1st Qu.:2225  \n",
       " Median :22.75   Median :4.000   Median :151.0   Median : 93.5   Median :2804  \n",
       " Mean   :23.45   Mean   :5.472   Mean   :194.4   Mean   :104.5   Mean   :2978  \n",
       " 3rd Qu.:29.00   3rd Qu.:8.000   3rd Qu.:275.8   3rd Qu.:126.0   3rd Qu.:3615  \n",
       " Max.   :46.60   Max.   :8.000   Max.   :455.0   Max.   :230.0   Max.   :5140  \n",
       "                                                                               \n",
       "  acceleration        year           origin                      name    \n",
       " Min.   : 8.00   Min.   :70.00   Min.   :1.000   amc matador       :  5  \n",
       " 1st Qu.:13.78   1st Qu.:73.00   1st Qu.:1.000   ford pinto        :  5  \n",
       " Median :15.50   Median :76.00   Median :1.000   toyota corolla    :  5  \n",
       " Mean   :15.54   Mean   :75.98   Mean   :1.577   amc gremlin       :  4  \n",
       " 3rd Qu.:17.02   3rd Qu.:79.00   3rd Qu.:2.000   amc hornet        :  4  \n",
       " Max.   :24.80   Max.   :82.00   Max.   :3.000   chevrolet chevette:  4  \n",
       "                                                 (Other)           :365  \n",
       "     mpg01    \n",
       " Min.   :0.0  \n",
       " 1st Qu.:0.0  \n",
       " Median :0.5  \n",
       " Mean   :0.5  \n",
       " 3rd Qu.:1.0  \n",
       " Max.   :1.0  \n",
       "              "
      ]
     },
     "metadata": {},
     "output_type": "display_data"
    }
   ],
   "source": [
    "mpg01=rep(0,392)\n",
    "mpg01[Auto$mpg>median(Auto$mpg)]=1\n",
    "Auto01 = data.frame(Auto, mpg01)\n",
    "par(mfrow=c(2,4))\n",
    "attach(Auto01)\n",
    "summary(Auto01)"
   ]
  },
  {
   "cell_type": "code",
   "execution_count": 31,
   "metadata": {
    "scrolled": true
   },
   "outputs": [
    {
     "data": {
      "image/png": "[encoded data removed]",
      "text/plain": [
       "plot without title"
      ]
     },
     "metadata": {},
     "output_type": "display_data"
    }
   ],
   "source": [
    "par(mfrow=c(2,4))\n",
    "plot(mpg01, cylinders, xlab=\"mpg01\", ylab=\"cylinders\")\n",
    "plot(mpg01, displacement, xlab=\"mpg01\", ylab=\"displacement\")\n",
    "plot(mpg01, horsepower, xlab=\"mpg01\", ylab=\"horsepower\")\n",
    "plot(mpg01, weight, xlab=\"mpg01\", ylab=\"weight\")\n",
    "plot(mpg01, acceleration, xlab=\"mpg01\", ylab=\"acceleration\")\n",
    "plot(mpg01, year, xlab=\"mpg01\", ylab=\"year\")\n",
    "plot(mpg01, origin, xlab=\"mpg01\", ylab=\"origin\")"
   ]
  },
  {
   "cell_type": "code",
   "execution_count": 29,
   "metadata": {},
   "outputs": [
    {
     "data": {
      "text/html": [
       "6.76530612244898"
      ],
      "text/latex": [
       "6.76530612244898"
      ],
      "text/markdown": [
       "6.76530612244898"
      ],
      "text/plain": [
       "[1] 6.765306"
      ]
     },
     "metadata": {},
     "output_type": "display_data"
    }
   ],
   "source": [
    "mean(cylinders[mpg01==0])"
   ]
  }
 ],
 "metadata": {
  "kernelspec": {
   "display_name": "R",
   "language": "R",
   "name": "ir"
  },
  "language_info": {
   "codemirror_mode": "r",
   "file_extension": ".r",
   "mimetype": "text/x-r-source",
   "name": "R",
   "pygments_lexer": "r",
   "version": "3.4.0"
  }
 },
 "nbformat": 4,
 "nbformat_minor": 2
}
