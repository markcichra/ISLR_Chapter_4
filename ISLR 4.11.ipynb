{
 "cells": [
  {
   "cell_type": "code",
   "execution_count": 75,
   "metadata": {},
   "outputs": [
    {
     "data": {
      "text/html": [
       "<ol class=list-inline>\n",
       "\t<li>392</li>\n",
       "\t<li>9</li>\n",
       "</ol>\n"
      ],
      "text/latex": [
       "\\begin{enumerate*}\n",
       "\\item 392\n",
       "\\item 9\n",
       "\\end{enumerate*}\n"
      ],
      "text/markdown": [
       "1. 392\n",
       "2. 9\n",
       "\n",
       "\n"
      ],
      "text/plain": [
       "[1] 392   9"
      ]
     },
     "metadata": {},
     "output_type": "display_data"
    },
    {
     "data": {
      "text/html": [
       "<ol class=list-inline>\n",
       "\t<li>'mpg'</li>\n",
       "\t<li>'cylinders'</li>\n",
       "\t<li>'displacement'</li>\n",
       "\t<li>'horsepower'</li>\n",
       "\t<li>'weight'</li>\n",
       "\t<li>'acceleration'</li>\n",
       "\t<li>'year'</li>\n",
       "\t<li>'origin'</li>\n",
       "\t<li>'name'</li>\n",
       "</ol>\n"
      ],
      "text/latex": [
       "\\begin{enumerate*}\n",
       "\\item 'mpg'\n",
       "\\item 'cylinders'\n",
       "\\item 'displacement'\n",
       "\\item 'horsepower'\n",
       "\\item 'weight'\n",
       "\\item 'acceleration'\n",
       "\\item 'year'\n",
       "\\item 'origin'\n",
       "\\item 'name'\n",
       "\\end{enumerate*}\n"
      ],
      "text/markdown": [
       "1. 'mpg'\n",
       "2. 'cylinders'\n",
       "3. 'displacement'\n",
       "4. 'horsepower'\n",
       "5. 'weight'\n",
       "6. 'acceleration'\n",
       "7. 'year'\n",
       "8. 'origin'\n",
       "9. 'name'\n",
       "\n",
       "\n"
      ],
      "text/plain": [
       "[1] \"mpg\"          \"cylinders\"    \"displacement\" \"horsepower\"   \"weight\"      \n",
       "[6] \"acceleration\" \"year\"         \"origin\"       \"name\"        "
      ]
     },
     "metadata": {},
     "output_type": "display_data"
    }
   ],
   "source": [
    "library(ISLR)\n",
    "library(MASS)\n",
    "library(class)\n",
    "dim(Auto)\n",
    "names(Auto)"
   ]
  },
  {
   "cell_type": "code",
   "execution_count": 76,
   "metadata": {
    "scrolled": true
   },
   "outputs": [
    {
     "name": "stderr",
     "output_type": "stream",
     "text": [
      "The following object is masked _by_ .GlobalEnv:\n",
      "\n",
      "    mpg01\n",
      "\n",
      "The following objects are masked from Auto01 (pos = 3):\n",
      "\n",
      "    acceleration, cylinders, displacement, horsepower, mpg, mpg01,\n",
      "    name, origin, weight, year\n",
      "\n",
      "The following objects are masked from Auto01 (pos = 4):\n",
      "\n",
      "    acceleration, cylinders, displacement, horsepower, mpg, mpg01,\n",
      "    name, origin, weight, year\n",
      "\n",
      "The following objects are masked from Auto01 (pos = 5):\n",
      "\n",
      "    acceleration, cylinders, displacement, horsepower, mpg, mpg01,\n",
      "    name, origin, weight, year\n",
      "\n",
      "The following objects are masked from Auto01 (pos = 6):\n",
      "\n",
      "    acceleration, cylinders, displacement, horsepower, mpg, mpg01,\n",
      "    name, origin, weight, year\n",
      "\n",
      "The following objects are masked from Auto01 (pos = 7):\n",
      "\n",
      "    acceleration, cylinders, displacement, horsepower, mpg, mpg01,\n",
      "    name, origin, weight, year\n",
      "\n",
      "The following objects are masked from Auto01 (pos = 8):\n",
      "\n",
      "    acceleration, cylinders, displacement, horsepower, mpg, mpg01,\n",
      "    name, origin, weight, year\n",
      "\n",
      "The following objects are masked from Auto01 (pos = 9):\n",
      "\n",
      "    acceleration, cylinders, displacement, horsepower, mpg, mpg01,\n",
      "    name, origin, weight, year\n",
      "\n",
      "The following objects are masked from Auto01 (pos = 10):\n",
      "\n",
      "    acceleration, cylinders, displacement, horsepower, mpg, mpg01,\n",
      "    name, origin, weight, year\n",
      "\n"
     ]
    },
    {
     "data": {
      "text/plain": [
       "      mpg          cylinders      displacement     horsepower        weight    \n",
       " Min.   : 9.00   Min.   :3.000   Min.   : 68.0   Min.   : 46.0   Min.   :1613  \n",
       " 1st Qu.:17.00   1st Qu.:4.000   1st Qu.:105.0   1st Qu.: 75.0   1st Qu.:2225  \n",
       " Median :22.75   Median :4.000   Median :151.0   Median : 93.5   Median :2804  \n",
       " Mean   :23.45   Mean   :5.472   Mean   :194.4   Mean   :104.5   Mean   :2978  \n",
       " 3rd Qu.:29.00   3rd Qu.:8.000   3rd Qu.:275.8   3rd Qu.:126.0   3rd Qu.:3615  \n",
       " Max.   :46.60   Max.   :8.000   Max.   :455.0   Max.   :230.0   Max.   :5140  \n",
       "                                                                               \n",
       "  acceleration        year           origin                      name    \n",
       " Min.   : 8.00   Min.   :70.00   Min.   :1.000   amc matador       :  5  \n",
       " 1st Qu.:13.78   1st Qu.:73.00   1st Qu.:1.000   ford pinto        :  5  \n",
       " Median :15.50   Median :76.00   Median :1.000   toyota corolla    :  5  \n",
       " Mean   :15.54   Mean   :75.98   Mean   :1.577   amc gremlin       :  4  \n",
       " 3rd Qu.:17.02   3rd Qu.:79.00   3rd Qu.:2.000   amc hornet        :  4  \n",
       " Max.   :24.80   Max.   :82.00   Max.   :3.000   chevrolet chevette:  4  \n",
       "                                                 (Other)           :365  \n",
       "     mpg01    \n",
       " Min.   :0.0  \n",
       " 1st Qu.:0.0  \n",
       " Median :0.5  \n",
       " Mean   :0.5  \n",
       " 3rd Qu.:1.0  \n",
       " Max.   :1.0  \n",
       "              "
      ]
     },
     "metadata": {},
     "output_type": "display_data"
    }
   ],
   "source": [
    "mpg01=rep(0,392)\n",
    "mpg01[Auto$mpg>median(Auto$mpg)]=1\n",
    "Auto01 = data.frame(Auto, mpg01)\n",
    "par(mfrow=c(2,4))\n",
    "attach(Auto01)\n",
    "summary(Auto01)"
   ]
  },
  {
   "cell_type": "code",
   "execution_count": 77,
   "metadata": {
    "scrolled": false
   },
   "outputs": [
    {
     "data": {
      "image/png": "[encoded data removed]",
      "text/plain": [
       "plot without title"
      ]
     },
     "metadata": {},
     "output_type": "display_data"
    }
   ],
   "source": [
    "par(mfrow=c(2,4))\n",
    "boxplot(cylinders~mpg01, data=Auto01, xlab=\"mpg01\", ylab=\"cylinders\")\n",
    "boxplot(displacement~mpg01, data=Auto01, xlab=\"mpg01\", ylab=\"displacement\")\n",
    "boxplot(horsepower~mpg01, data=Auto01, xlab=\"mpg01\", ylab=\"horsepower\")\n",
    "boxplot(weight~mpg01, data=Auto01, xlab=\"mpg01\", ylab=\"weight\")\n",
    "boxplot(acceleration~mpg01, data=Auto01, xlab=\"mpg01\", ylab=\"acceleration\")\n",
    "boxplot(year~mpg01, data=Auto01, xlab=\"mpg01\", ylab=\"year\")\n",
    "boxplot(origin~mpg01, data=Auto01, xlab=\"mpg01\", ylab=\"origin\")"
   ]
  },
  {
   "cell_type": "code",
   "execution_count": 78,
   "metadata": {},
   "outputs": [
    {
     "data": {
      "text/html": [
       "<table>\n",
       "<thead><tr><th></th><th scope=col>mpg</th><th scope=col>cylinders</th><th scope=col>displacement</th><th scope=col>horsepower</th><th scope=col>weight</th><th scope=col>acceleration</th><th scope=col>year</th><th scope=col>origin</th><th scope=col>mpg01</th></tr></thead>\n",
       "<tbody>\n",
       "\t<tr><th scope=row>mpg</th><td> 1.0000000</td><td>-0.7776175</td><td>-0.8051269</td><td>-0.7784268</td><td>-0.8322442</td><td> 0.4233285</td><td> 0.5805410</td><td> 0.5652088</td><td> 0.8369392</td></tr>\n",
       "\t<tr><th scope=row>cylinders</th><td>-0.7776175</td><td> 1.0000000</td><td> 0.9508233</td><td> 0.8429834</td><td> 0.8975273</td><td>-0.5046834</td><td>-0.3456474</td><td>-0.5689316</td><td>-0.7591939</td></tr>\n",
       "\t<tr><th scope=row>displacement</th><td>-0.8051269</td><td> 0.9508233</td><td> 1.0000000</td><td> 0.8972570</td><td> 0.9329944</td><td>-0.5438005</td><td>-0.3698552</td><td>-0.6145351</td><td>-0.7534766</td></tr>\n",
       "\t<tr><th scope=row>horsepower</th><td>-0.7784268</td><td> 0.8429834</td><td> 0.8972570</td><td> 1.0000000</td><td> 0.8645377</td><td>-0.6891955</td><td>-0.4163615</td><td>-0.4551715</td><td>-0.6670526</td></tr>\n",
       "\t<tr><th scope=row>weight</th><td>-0.8322442</td><td> 0.8975273</td><td> 0.9329944</td><td> 0.8645377</td><td> 1.0000000</td><td>-0.4168392</td><td>-0.3091199</td><td>-0.5850054</td><td>-0.7577566</td></tr>\n",
       "\t<tr><th scope=row>acceleration</th><td> 0.4233285</td><td>-0.5046834</td><td>-0.5438005</td><td>-0.6891955</td><td>-0.4168392</td><td> 1.0000000</td><td> 0.2903161</td><td> 0.2127458</td><td> 0.3468215</td></tr>\n",
       "\t<tr><th scope=row>year</th><td> 0.5805410</td><td>-0.3456474</td><td>-0.3698552</td><td>-0.4163615</td><td>-0.3091199</td><td> 0.2903161</td><td> 1.0000000</td><td> 0.1815277</td><td> 0.4299042</td></tr>\n",
       "\t<tr><th scope=row>origin</th><td> 0.5652088</td><td>-0.5689316</td><td>-0.6145351</td><td>-0.4551715</td><td>-0.5850054</td><td> 0.2127458</td><td> 0.1815277</td><td> 1.0000000</td><td> 0.5136984</td></tr>\n",
       "\t<tr><th scope=row>mpg01</th><td> 0.8369392</td><td>-0.7591939</td><td>-0.7534766</td><td>-0.6670526</td><td>-0.7577566</td><td> 0.3468215</td><td> 0.4299042</td><td> 0.5136984</td><td> 1.0000000</td></tr>\n",
       "</tbody>\n",
       "</table>\n"
      ],
      "text/latex": [
       "\\begin{tabular}{r|lllllllll}\n",
       "  & mpg & cylinders & displacement & horsepower & weight & acceleration & year & origin & mpg01\\\\\n",
       "\\hline\n",
       "\tmpg &  1.0000000 & -0.7776175 & -0.8051269 & -0.7784268 & -0.8322442 &  0.4233285 &  0.5805410 &  0.5652088 &  0.8369392\\\\\n",
       "\tcylinders & -0.7776175 &  1.0000000 &  0.9508233 &  0.8429834 &  0.8975273 & -0.5046834 & -0.3456474 & -0.5689316 & -0.7591939\\\\\n",
       "\tdisplacement & -0.8051269 &  0.9508233 &  1.0000000 &  0.8972570 &  0.9329944 & -0.5438005 & -0.3698552 & -0.6145351 & -0.7534766\\\\\n",
       "\thorsepower & -0.7784268 &  0.8429834 &  0.8972570 &  1.0000000 &  0.8645377 & -0.6891955 & -0.4163615 & -0.4551715 & -0.6670526\\\\\n",
       "\tweight & -0.8322442 &  0.8975273 &  0.9329944 &  0.8645377 &  1.0000000 & -0.4168392 & -0.3091199 & -0.5850054 & -0.7577566\\\\\n",
       "\tacceleration &  0.4233285 & -0.5046834 & -0.5438005 & -0.6891955 & -0.4168392 &  1.0000000 &  0.2903161 &  0.2127458 &  0.3468215\\\\\n",
       "\tyear &  0.5805410 & -0.3456474 & -0.3698552 & -0.4163615 & -0.3091199 &  0.2903161 &  1.0000000 &  0.1815277 &  0.4299042\\\\\n",
       "\torigin &  0.5652088 & -0.5689316 & -0.6145351 & -0.4551715 & -0.5850054 &  0.2127458 &  0.1815277 &  1.0000000 &  0.5136984\\\\\n",
       "\tmpg01 &  0.8369392 & -0.7591939 & -0.7534766 & -0.6670526 & -0.7577566 &  0.3468215 &  0.4299042 &  0.5136984 &  1.0000000\\\\\n",
       "\\end{tabular}\n"
      ],
      "text/markdown": [
       "\n",
       "| <!--/--> | mpg | cylinders | displacement | horsepower | weight | acceleration | year | origin | mpg01 | \n",
       "|---|---|---|---|---|---|---|---|---|\n",
       "| mpg |  1.0000000 | -0.7776175 | -0.8051269 | -0.7784268 | -0.8322442 |  0.4233285 |  0.5805410 |  0.5652088 |  0.8369392 | \n",
       "| cylinders | -0.7776175 |  1.0000000 |  0.9508233 |  0.8429834 |  0.8975273 | -0.5046834 | -0.3456474 | -0.5689316 | -0.7591939 | \n",
       "| displacement | -0.8051269 |  0.9508233 |  1.0000000 |  0.8972570 |  0.9329944 | -0.5438005 | -0.3698552 | -0.6145351 | -0.7534766 | \n",
       "| horsepower | -0.7784268 |  0.8429834 |  0.8972570 |  1.0000000 |  0.8645377 | -0.6891955 | -0.4163615 | -0.4551715 | -0.6670526 | \n",
       "| weight | -0.8322442 |  0.8975273 |  0.9329944 |  0.8645377 |  1.0000000 | -0.4168392 | -0.3091199 | -0.5850054 | -0.7577566 | \n",
       "| acceleration |  0.4233285 | -0.5046834 | -0.5438005 | -0.6891955 | -0.4168392 |  1.0000000 |  0.2903161 |  0.2127458 |  0.3468215 | \n",
       "| year |  0.5805410 | -0.3456474 | -0.3698552 | -0.4163615 | -0.3091199 |  0.2903161 |  1.0000000 |  0.1815277 |  0.4299042 | \n",
       "| origin |  0.5652088 | -0.5689316 | -0.6145351 | -0.4551715 | -0.5850054 |  0.2127458 |  0.1815277 |  1.0000000 |  0.5136984 | \n",
       "| mpg01 |  0.8369392 | -0.7591939 | -0.7534766 | -0.6670526 | -0.7577566 |  0.3468215 |  0.4299042 |  0.5136984 |  1.0000000 | \n",
       "\n",
       "\n"
      ],
      "text/plain": [
       "             mpg        cylinders  displacement horsepower weight    \n",
       "mpg           1.0000000 -0.7776175 -0.8051269   -0.7784268 -0.8322442\n",
       "cylinders    -0.7776175  1.0000000  0.9508233    0.8429834  0.8975273\n",
       "displacement -0.8051269  0.9508233  1.0000000    0.8972570  0.9329944\n",
       "horsepower   -0.7784268  0.8429834  0.8972570    1.0000000  0.8645377\n",
       "weight       -0.8322442  0.8975273  0.9329944    0.8645377  1.0000000\n",
       "acceleration  0.4233285 -0.5046834 -0.5438005   -0.6891955 -0.4168392\n",
       "year          0.5805410 -0.3456474 -0.3698552   -0.4163615 -0.3091199\n",
       "origin        0.5652088 -0.5689316 -0.6145351   -0.4551715 -0.5850054\n",
       "mpg01         0.8369392 -0.7591939 -0.7534766   -0.6670526 -0.7577566\n",
       "             acceleration year       origin     mpg01     \n",
       "mpg           0.4233285    0.5805410  0.5652088  0.8369392\n",
       "cylinders    -0.5046834   -0.3456474 -0.5689316 -0.7591939\n",
       "displacement -0.5438005   -0.3698552 -0.6145351 -0.7534766\n",
       "horsepower   -0.6891955   -0.4163615 -0.4551715 -0.6670526\n",
       "weight       -0.4168392   -0.3091199 -0.5850054 -0.7577566\n",
       "acceleration  1.0000000    0.2903161  0.2127458  0.3468215\n",
       "year          0.2903161    1.0000000  0.1815277  0.4299042\n",
       "origin        0.2127458    0.1815277  1.0000000  0.5136984\n",
       "mpg01         0.3468215    0.4299042  0.5136984  1.0000000"
      ]
     },
     "metadata": {},
     "output_type": "display_data"
    }
   ],
   "source": [
    "cor(Auto01[,-9])"
   ]
  },
  {
   "cell_type": "markdown",
   "metadata": {},
   "source": [
    "Cylinders, displacement, horsepower, and weight look like they might be most effective in predicting mpg01. The boxplots show that the values of these variables for mpg01 = 1 vs mpg 01 = 0 differ substantially not only in mean but in interquartile range. The correlation matrix hows that the strongest linear relationships exist between mpg01 and these variables. However these variables also appear highly correlated with each other so might not all be significant."
   ]
  },
  {
   "cell_type": "code",
   "execution_count": 80,
   "metadata": {},
   "outputs": [
    {
     "data": {
      "text/html": [
       "112"
      ],
      "text/latex": [
       "112"
      ],
      "text/markdown": [
       "112"
      ],
      "text/plain": [
       "[1] 112"
      ]
     },
     "metadata": {},
     "output_type": "display_data"
    },
    {
     "data": {
      "text/html": [
       "280"
      ],
      "text/latex": [
       "280"
      ],
      "text/markdown": [
       "280"
      ],
      "text/plain": [
       "[1] 280"
      ]
     },
     "metadata": {},
     "output_type": "display_data"
    }
   ],
   "source": [
    "#will randomly assign 30% of data to a test set. Data is not a time series so do not need an out of time sample.\n",
    "set.seed(1)\n",
    "split = as.matrix(runif(nrow(Auto01)))\n",
    "Auto01Test = Auto01[split > 0.7,]  #that comma is super important!\n",
    "Auto01Train = Auto01[split <= 0.7,]\n",
    "nrow(Auto01Test)\n",
    "nrow(Auto01Train)"
   ]
  },
  {
   "cell_type": "code",
   "execution_count": 86,
   "metadata": {},
   "outputs": [
    {
     "data": {
      "text/plain": [
       "        Length Class  Mode     \n",
       "prior   2      -none- numeric  \n",
       "counts  2      -none- numeric  \n",
       "means   8      -none- numeric  \n",
       "scaling 4      -none- numeric  \n",
       "lev     2      -none- character\n",
       "svd     1      -none- numeric  \n",
       "N       1      -none- numeric  \n",
       "call    3      -none- call     \n",
       "terms   3      terms  call     \n",
       "xlevels 0      -none- list     "
      ]
     },
     "metadata": {},
     "output_type": "display_data"
    },
    {
     "data": {
      "text/plain": [
       "        \n",
       "ldaclass  0  1\n",
       "       0 48  2\n",
       "       1 11 51"
      ]
     },
     "metadata": {},
     "output_type": "display_data"
    },
    {
     "data": {
      "text/html": [
       "0.883928571428571"
      ],
      "text/latex": [
       "0.883928571428571"
      ],
      "text/markdown": [
       "0.883928571428571"
      ],
      "text/plain": [
       "[1] 0.8839286"
      ]
     },
     "metadata": {},
     "output_type": "display_data"
    },
    {
     "data": {
      "text/html": [
       "0.116071428571429"
      ],
      "text/latex": [
       "0.116071428571429"
      ],
      "text/markdown": [
       "0.116071428571429"
      ],
      "text/plain": [
       "[1] 0.1160714"
      ]
     },
     "metadata": {},
     "output_type": "display_data"
    }
   ],
   "source": [
    "ldafit = lda(mpg01~cylinders + displacement + horsepower + weight, data=Auto01Train)\n",
    "summary(ldafit)\n",
    "ldapred=predict(ldafit, Auto01Test)\n",
    "ldaclass=ldapred$class\n",
    "table(ldaclass, Auto01Test$mpg01)\n",
    "mean(ldaclass==Auto01Test$mpg01)\n",
    "mean(ldaclass!=Auto01Test$mpg01)"
   ]
  },
  {
   "cell_type": "markdown",
   "metadata": {},
   "source": [
    "The test error rate is 11.6%. "
   ]
  },
  {
   "cell_type": "code",
   "execution_count": 87,
   "metadata": {},
   "outputs": [
    {
     "data": {
      "text/plain": [
       "        \n",
       "qdaclass  0  1\n",
       "       0 48  6\n",
       "       1 11 47"
      ]
     },
     "metadata": {},
     "output_type": "display_data"
    },
    {
     "data": {
      "text/html": [
       "0.848214285714286"
      ],
      "text/latex": [
       "0.848214285714286"
      ],
      "text/markdown": [
       "0.848214285714286"
      ],
      "text/plain": [
       "[1] 0.8482143"
      ]
     },
     "metadata": {},
     "output_type": "display_data"
    },
    {
     "data": {
      "text/html": [
       "0.151785714285714"
      ],
      "text/latex": [
       "0.151785714285714"
      ],
      "text/markdown": [
       "0.151785714285714"
      ],
      "text/plain": [
       "[1] 0.1517857"
      ]
     },
     "metadata": {},
     "output_type": "display_data"
    }
   ],
   "source": [
    "qdafit = qda(mpg01~cylinders + displacement + horsepower + weight, data=Auto01Train)\n",
    "qdapred=predict(qdafit, Auto01Test)\n",
    "qdaclass=qdapred$class\n",
    "table(qdaclass, Auto01Test$mpg01)\n",
    "mean(qdaclass==Auto01Test$mpg01)\n",
    "mean(qdaclass!=Auto01Test$mpg01)"
   ]
  },
  {
   "cell_type": "markdown",
   "metadata": {},
   "source": [
    "The test error rate is 15.2%"
   ]
  },
  {
   "cell_type": "code",
   "execution_count": 90,
   "metadata": {},
   "outputs": [
    {
     "data": {
      "text/plain": [
       "\n",
       "Call:\n",
       "glm(formula = mpg01 ~ cylinders + displacement + horsepower + \n",
       "    weight, family = binomial, data = Auto01Train)\n",
       "\n",
       "Deviance Residuals: \n",
       "    Min       1Q   Median       3Q      Max  \n",
       "-2.2960  -0.1172   0.0748   0.2987   3.4212  \n",
       "\n",
       "Coefficients:\n",
       "               Estimate Std. Error z value Pr(>|z|)    \n",
       "(Intercept)  15.1739382  2.4149411   6.283 3.31e-10 ***\n",
       "cylinders    -0.0851831  0.4137404  -0.206 0.836880    \n",
       "displacement -0.0044862  0.0093476  -0.480 0.631272    \n",
       "horsepower   -0.0579770  0.0178013  -3.257 0.001126 ** \n",
       "weight       -0.0029551  0.0008819  -3.351 0.000805 ***\n",
       "---\n",
       "Signif. codes:  0 '***' 0.001 '**' 0.01 '*' 0.05 '.' 0.1 ' ' 1\n",
       "\n",
       "(Dispersion parameter for binomial family taken to be 1)\n",
       "\n",
       "    Null deviance: 388.03  on 279  degrees of freedom\n",
       "Residual deviance: 135.68  on 275  degrees of freedom\n",
       "AIC: 145.68\n",
       "\n",
       "Number of Fisher Scoring iterations: 7\n"
      ]
     },
     "metadata": {},
     "output_type": "display_data"
    },
    {
     "data": {
      "text/plain": [
       "       \n",
       "glmpred  0  1\n",
       "      0 50  3\n",
       "      1  9 50"
      ]
     },
     "metadata": {},
     "output_type": "display_data"
    },
    {
     "data": {
      "text/html": [
       "0.892857142857143"
      ],
      "text/latex": [
       "0.892857142857143"
      ],
      "text/markdown": [
       "0.892857142857143"
      ],
      "text/plain": [
       "[1] 0.8928571"
      ]
     },
     "metadata": {},
     "output_type": "display_data"
    },
    {
     "data": {
      "text/html": [
       "0.107142857142857"
      ],
      "text/latex": [
       "0.107142857142857"
      ],
      "text/markdown": [
       "0.107142857142857"
      ],
      "text/plain": [
       "[1] 0.1071429"
      ]
     },
     "metadata": {},
     "output_type": "display_data"
    }
   ],
   "source": [
    "glmfit = glm(mpg01~cylinders + displacement + horsepower + weight, data=Auto01Train, family=binomial)\n",
    "summary(glmfit)\n",
    "glmprobs=predict(glmfit, Auto01Test, type=\"response\")\n",
    "glmpred=rep(0, nrow(Auto01Test))\n",
    "glmpred[glmprobs>.5]=1\n",
    "table(glmpred, Auto01Test$mpg01)\n",
    "mean(glmpred==Auto01Test$mpg01)\n",
    "mean(glmpred!=Auto01Test$mpg01)"
   ]
  },
  {
   "cell_type": "markdown",
   "metadata": {},
   "source": [
    "The test error rate is 10.7%."
   ]
  },
  {
   "cell_type": "code",
   "execution_count": 97,
   "metadata": {},
   "outputs": [
    {
     "data": {
      "text/plain": [
       "       \n",
       "knnpred  0  1\n",
       "      0 49  8\n",
       "      1 10 45"
      ]
     },
     "metadata": {},
     "output_type": "display_data"
    },
    {
     "data": {
      "text/html": [
       "0.839285714285714"
      ],
      "text/latex": [
       "0.839285714285714"
      ],
      "text/markdown": [
       "0.839285714285714"
      ],
      "text/plain": [
       "[1] 0.8392857"
      ]
     },
     "metadata": {},
     "output_type": "display_data"
    },
    {
     "data": {
      "text/html": [
       "0.160714285714286"
      ],
      "text/latex": [
       "0.160714285714286"
      ],
      "text/markdown": [
       "0.160714285714286"
      ],
      "text/plain": [
       "[1] 0.1607143"
      ]
     },
     "metadata": {},
     "output_type": "display_data"
    },
    {
     "data": {
      "text/plain": [
       "       \n",
       "knnpred  0  1\n",
       "      0 49  5\n",
       "      1 10 48"
      ]
     },
     "metadata": {},
     "output_type": "display_data"
    },
    {
     "data": {
      "text/html": [
       "0.866071428571429"
      ],
      "text/latex": [
       "0.866071428571429"
      ],
      "text/markdown": [
       "0.866071428571429"
      ],
      "text/plain": [
       "[1] 0.8660714"
      ]
     },
     "metadata": {},
     "output_type": "display_data"
    },
    {
     "data": {
      "text/html": [
       "0.133928571428571"
      ],
      "text/latex": [
       "0.133928571428571"
      ],
      "text/markdown": [
       "0.133928571428571"
      ],
      "text/plain": [
       "[1] 0.1339286"
      ]
     },
     "metadata": {},
     "output_type": "display_data"
    },
    {
     "data": {
      "text/plain": [
       "       \n",
       "knnpred  0  1\n",
       "      0 46  4\n",
       "      1 13 49"
      ]
     },
     "metadata": {},
     "output_type": "display_data"
    },
    {
     "data": {
      "text/html": [
       "0.848214285714286"
      ],
      "text/latex": [
       "0.848214285714286"
      ],
      "text/markdown": [
       "0.848214285714286"
      ],
      "text/plain": [
       "[1] 0.8482143"
      ]
     },
     "metadata": {},
     "output_type": "display_data"
    },
    {
     "data": {
      "text/html": [
       "0.151785714285714"
      ],
      "text/latex": [
       "0.151785714285714"
      ],
      "text/markdown": [
       "0.151785714285714"
      ],
      "text/plain": [
       "[1] 0.1517857"
      ]
     },
     "metadata": {},
     "output_type": "display_data"
    },
    {
     "data": {
      "text/plain": [
       "       \n",
       "knnpred  0  1\n",
       "      0 47  4\n",
       "      1 12 49"
      ]
     },
     "metadata": {},
     "output_type": "display_data"
    },
    {
     "data": {
      "text/html": [
       "0.857142857142857"
      ],
      "text/latex": [
       "0.857142857142857"
      ],
      "text/markdown": [
       "0.857142857142857"
      ],
      "text/plain": [
       "[1] 0.8571429"
      ]
     },
     "metadata": {},
     "output_type": "display_data"
    },
    {
     "data": {
      "text/html": [
       "0.142857142857143"
      ],
      "text/latex": [
       "0.142857142857143"
      ],
      "text/markdown": [
       "0.142857142857143"
      ],
      "text/plain": [
       "[1] 0.1428571"
      ]
     },
     "metadata": {},
     "output_type": "display_data"
    },
    {
     "data": {
      "text/plain": [
       "       \n",
       "knnpred  0  1\n",
       "      0 50  5\n",
       "      1  9 48"
      ]
     },
     "metadata": {},
     "output_type": "display_data"
    },
    {
     "data": {
      "text/html": [
       "0.875"
      ],
      "text/latex": [
       "0.875"
      ],
      "text/markdown": [
       "0.875"
      ],
      "text/plain": [
       "[1] 0.875"
      ]
     },
     "metadata": {},
     "output_type": "display_data"
    },
    {
     "data": {
      "text/html": [
       "0.125"
      ],
      "text/latex": [
       "0.125"
      ],
      "text/markdown": [
       "0.125"
      ],
      "text/plain": [
       "[1] 0.125"
      ]
     },
     "metadata": {},
     "output_type": "display_data"
    },
    {
     "data": {
      "text/plain": [
       "       \n",
       "knnpred  0  1\n",
       "      0 47  5\n",
       "      1 12 48"
      ]
     },
     "metadata": {},
     "output_type": "display_data"
    },
    {
     "data": {
      "text/html": [
       "0.848214285714286"
      ],
      "text/latex": [
       "0.848214285714286"
      ],
      "text/markdown": [
       "0.848214285714286"
      ],
      "text/plain": [
       "[1] 0.8482143"
      ]
     },
     "metadata": {},
     "output_type": "display_data"
    },
    {
     "data": {
      "text/html": [
       "0.151785714285714"
      ],
      "text/latex": [
       "0.151785714285714"
      ],
      "text/markdown": [
       "0.151785714285714"
      ],
      "text/plain": [
       "[1] 0.1517857"
      ]
     },
     "metadata": {},
     "output_type": "display_data"
    }
   ],
   "source": [
    "library(class)\n",
    "#need matrix function because knn wants a matrix not a vector for train and test\n",
    "trainX=cbind(Auto01Train$cylinders, Auto01Train$displacement, Auto01Train$horsepower, Auto01Train$weight)\n",
    "testX=cbind(Auto01Test$cylinders, Auto01Test$displacement, Auto01Test$horsepower, Auto01Test$weight)\n",
    "set.seed(1)\n",
    "knnpred=knn(trainX, testX, Auto01Train$mpg01, k=1)\n",
    "table(knnpred, Auto01Test$mpg01)\n",
    "mean(knnpred==Auto01Test$mpg01)\n",
    "mean(knnpred!=Auto01Test$mpg01)\n",
    "knnpred=knn(trainX, testX, Auto01Train$mpg01, k=2)\n",
    "table(knnpred, Auto01Test$mpg01)\n",
    "mean(knnpred==Auto01Test$mpg01)\n",
    "mean(knnpred!=Auto01Test$mpg01)\n",
    "knnpred=knn(trainX, testX, Auto01Train$mpg01, k=3)\n",
    "table(knnpred, Auto01Test$mpg01)\n",
    "mean(knnpred==Auto01Test$mpg01)\n",
    "mean(knnpred!=Auto01Test$mpg01)\n",
    "knnpred=knn(trainX, testX, Auto01Train$mpg01, k=4)\n",
    "table(knnpred, Auto01Test$mpg01)\n",
    "mean(knnpred==Auto01Test$mpg01)\n",
    "mean(knnpred!=Auto01Test$mpg01)\n",
    "knnpred=knn(trainX, testX, Auto01Train$mpg01, k=5)\n",
    "table(knnpred, Auto01Test$mpg01)\n",
    "mean(knnpred==Auto01Test$mpg01)\n",
    "mean(knnpred!=Auto01Test$mpg01)\n",
    "knnpred=knn(trainX, testX, Auto01Train$mpg01, k=6)\n",
    "table(knnpred, Auto01Test$mpg01)\n",
    "mean(knnpred==Auto01Test$mpg01)\n",
    "mean(knnpred!=Auto01Test$mpg01)"
   ]
  },
  {
   "cell_type": "markdown",
   "metadata": {},
   "source": [
    "Test error rates are 16.1%, 13.4%, 15.2%, 14.3%, 12.5%, and 15.2% for k = 1, 2, 3, 4, 5, 6 respectively. K=5 seems to perform best."
   ]
  }
 ],
 "metadata": {
  "kernelspec": {
   "display_name": "R",
   "language": "R",
   "name": "ir"
  },
  "language_info": {
   "codemirror_mode": "r",
   "file_extension": ".r",
   "mimetype": "text/x-r-source",
   "name": "R",
   "pygments_lexer": "r",
   "version": "3.4.0"
  }
 },
 "nbformat": 4,
 "nbformat_minor": 2
}
