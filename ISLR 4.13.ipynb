{
 "cells": [
  {
   "cell_type": "code",
   "execution_count": 1,
   "metadata": {},
   "outputs": [
    {
     "data": {
      "text/html": [
       "<ol class=list-inline>\n",
       "\t<li>506</li>\n",
       "\t<li>14</li>\n",
       "</ol>\n"
      ],
      "text/latex": [
       "\\begin{enumerate*}\n",
       "\\item 506\n",
       "\\item 14\n",
       "\\end{enumerate*}\n"
      ],
      "text/markdown": [
       "1. 506\n",
       "2. 14\n",
       "\n",
       "\n"
      ],
      "text/plain": [
       "[1] 506  14"
      ]
     },
     "metadata": {},
     "output_type": "display_data"
    },
    {
     "data": {
      "text/html": [
       "<ol class=list-inline>\n",
       "\t<li>'crim'</li>\n",
       "\t<li>'zn'</li>\n",
       "\t<li>'indus'</li>\n",
       "\t<li>'chas'</li>\n",
       "\t<li>'nox'</li>\n",
       "\t<li>'rm'</li>\n",
       "\t<li>'age'</li>\n",
       "\t<li>'dis'</li>\n",
       "\t<li>'rad'</li>\n",
       "\t<li>'tax'</li>\n",
       "\t<li>'ptratio'</li>\n",
       "\t<li>'black'</li>\n",
       "\t<li>'lstat'</li>\n",
       "\t<li>'medv'</li>\n",
       "</ol>\n"
      ],
      "text/latex": [
       "\\begin{enumerate*}\n",
       "\\item 'crim'\n",
       "\\item 'zn'\n",
       "\\item 'indus'\n",
       "\\item 'chas'\n",
       "\\item 'nox'\n",
       "\\item 'rm'\n",
       "\\item 'age'\n",
       "\\item 'dis'\n",
       "\\item 'rad'\n",
       "\\item 'tax'\n",
       "\\item 'ptratio'\n",
       "\\item 'black'\n",
       "\\item 'lstat'\n",
       "\\item 'medv'\n",
       "\\end{enumerate*}\n"
      ],
      "text/markdown": [
       "1. 'crim'\n",
       "2. 'zn'\n",
       "3. 'indus'\n",
       "4. 'chas'\n",
       "5. 'nox'\n",
       "6. 'rm'\n",
       "7. 'age'\n",
       "8. 'dis'\n",
       "9. 'rad'\n",
       "10. 'tax'\n",
       "11. 'ptratio'\n",
       "12. 'black'\n",
       "13. 'lstat'\n",
       "14. 'medv'\n",
       "\n",
       "\n"
      ],
      "text/plain": [
       " [1] \"crim\"    \"zn\"      \"indus\"   \"chas\"    \"nox\"     \"rm\"      \"age\"    \n",
       " [8] \"dis\"     \"rad\"     \"tax\"     \"ptratio\" \"black\"   \"lstat\"   \"medv\"   "
      ]
     },
     "metadata": {},
     "output_type": "display_data"
    },
    {
     "data": {
      "text/plain": [
       "      crim                zn             indus            chas        \n",
       " Min.   : 0.00632   Min.   :  0.00   Min.   : 0.46   Min.   :0.00000  \n",
       " 1st Qu.: 0.08204   1st Qu.:  0.00   1st Qu.: 5.19   1st Qu.:0.00000  \n",
       " Median : 0.25651   Median :  0.00   Median : 9.69   Median :0.00000  \n",
       " Mean   : 3.61352   Mean   : 11.36   Mean   :11.14   Mean   :0.06917  \n",
       " 3rd Qu.: 3.67708   3rd Qu.: 12.50   3rd Qu.:18.10   3rd Qu.:0.00000  \n",
       " Max.   :88.97620   Max.   :100.00   Max.   :27.74   Max.   :1.00000  \n",
       "      nox               rm             age              dis        \n",
       " Min.   :0.3850   Min.   :3.561   Min.   :  2.90   Min.   : 1.130  \n",
       " 1st Qu.:0.4490   1st Qu.:5.886   1st Qu.: 45.02   1st Qu.: 2.100  \n",
       " Median :0.5380   Median :6.208   Median : 77.50   Median : 3.207  \n",
       " Mean   :0.5547   Mean   :6.285   Mean   : 68.57   Mean   : 3.795  \n",
       " 3rd Qu.:0.6240   3rd Qu.:6.623   3rd Qu.: 94.08   3rd Qu.: 5.188  \n",
       " Max.   :0.8710   Max.   :8.780   Max.   :100.00   Max.   :12.127  \n",
       "      rad              tax           ptratio          black       \n",
       " Min.   : 1.000   Min.   :187.0   Min.   :12.60   Min.   :  0.32  \n",
       " 1st Qu.: 4.000   1st Qu.:279.0   1st Qu.:17.40   1st Qu.:375.38  \n",
       " Median : 5.000   Median :330.0   Median :19.05   Median :391.44  \n",
       " Mean   : 9.549   Mean   :408.2   Mean   :18.46   Mean   :356.67  \n",
       " 3rd Qu.:24.000   3rd Qu.:666.0   3rd Qu.:20.20   3rd Qu.:396.23  \n",
       " Max.   :24.000   Max.   :711.0   Max.   :22.00   Max.   :396.90  \n",
       "     lstat            medv      \n",
       " Min.   : 1.73   Min.   : 5.00  \n",
       " 1st Qu.: 6.95   1st Qu.:17.02  \n",
       " Median :11.36   Median :21.20  \n",
       " Mean   :12.65   Mean   :22.53  \n",
       " 3rd Qu.:16.95   3rd Qu.:25.00  \n",
       " Max.   :37.97   Max.   :50.00  "
      ]
     },
     "metadata": {},
     "output_type": "display_data"
    }
   ],
   "source": [
    "library(ISLR)\n",
    "library(MASS)\n",
    "library(class)\n",
    "dim(Boston)\n",
    "names(Boston)\n",
    "summary(Boston)\n",
    "?Boston"
   ]
  },
  {
   "cell_type": "code",
   "execution_count": 2,
   "metadata": {},
   "outputs": [
    {
     "data": {
      "text/plain": [
       "      crim                zn             indus            chas        \n",
       " Min.   : 0.00632   Min.   :  0.00   Min.   : 0.46   Min.   :0.00000  \n",
       " 1st Qu.: 0.08204   1st Qu.:  0.00   1st Qu.: 5.19   1st Qu.:0.00000  \n",
       " Median : 0.25651   Median :  0.00   Median : 9.69   Median :0.00000  \n",
       " Mean   : 3.61352   Mean   : 11.36   Mean   :11.14   Mean   :0.06917  \n",
       " 3rd Qu.: 3.67708   3rd Qu.: 12.50   3rd Qu.:18.10   3rd Qu.:0.00000  \n",
       " Max.   :88.97620   Max.   :100.00   Max.   :27.74   Max.   :1.00000  \n",
       "      nox               rm             age              dis        \n",
       " Min.   :0.3850   Min.   :3.561   Min.   :  2.90   Min.   : 1.130  \n",
       " 1st Qu.:0.4490   1st Qu.:5.886   1st Qu.: 45.02   1st Qu.: 2.100  \n",
       " Median :0.5380   Median :6.208   Median : 77.50   Median : 3.207  \n",
       " Mean   :0.5547   Mean   :6.285   Mean   : 68.57   Mean   : 3.795  \n",
       " 3rd Qu.:0.6240   3rd Qu.:6.623   3rd Qu.: 94.08   3rd Qu.: 5.188  \n",
       " Max.   :0.8710   Max.   :8.780   Max.   :100.00   Max.   :12.127  \n",
       "      rad              tax           ptratio          black       \n",
       " Min.   : 1.000   Min.   :187.0   Min.   :12.60   Min.   :  0.32  \n",
       " 1st Qu.: 4.000   1st Qu.:279.0   1st Qu.:17.40   1st Qu.:375.38  \n",
       " Median : 5.000   Median :330.0   Median :19.05   Median :391.44  \n",
       " Mean   : 9.549   Mean   :408.2   Mean   :18.46   Mean   :356.67  \n",
       " 3rd Qu.:24.000   3rd Qu.:666.0   3rd Qu.:20.20   3rd Qu.:396.23  \n",
       " Max.   :24.000   Max.   :711.0   Max.   :22.00   Max.   :396.90  \n",
       "     lstat            medv           crim01   \n",
       " Min.   : 1.73   Min.   : 5.00   Min.   :0.0  \n",
       " 1st Qu.: 6.95   1st Qu.:17.02   1st Qu.:0.0  \n",
       " Median :11.36   Median :21.20   Median :0.5  \n",
       " Mean   :12.65   Mean   :22.53   Mean   :0.5  \n",
       " 3rd Qu.:16.95   3rd Qu.:25.00   3rd Qu.:1.0  \n",
       " Max.   :37.97   Max.   :50.00   Max.   :1.0  "
      ]
     },
     "metadata": {},
     "output_type": "display_data"
    }
   ],
   "source": [
    "crim01 = rep(0,nrow(Boston))\n",
    "crim01[Boston$crim>median(Boston$crim)]=1\n",
    "Boston01 = data.frame(Boston, crim01)\n",
    "summary(Boston01)"
   ]
  },
  {
   "cell_type": "code",
   "execution_count": 3,
   "metadata": {},
   "outputs": [
    {
     "data": {
      "image/png": "[encoded data removed]",
      "text/plain": [
       "plot without title"
      ]
     },
     "metadata": {},
     "output_type": "display_data"
    }
   ],
   "source": [
    "par(mfrow=c(4,4))\n",
    "boxplot(zn~crim01, data=Boston01, xlab=\"crim01\", ylab=\"residential zoning\")\n",
    "boxplot(indus~crim01, data=Boston01, xlab=\"crim01\", ylab=\"non-retail business\")\n",
    "boxplot(chas~crim01, data=Boston01, xlab=\"crim01\", ylab=\"on Charles River\")\n",
    "boxplot(nox~crim01, data=Boston01, xlab=\"crim01\", ylab=\"nitrogen oxide concentration\")\n",
    "boxplot(rm~crim01, data=Boston01, xlab=\"crim01\", ylab=\"rooms per dwelling\")\n",
    "boxplot(age~crim01, data=Boston01, xlab=\"crim01\", ylab=\"built before 1940 proportion\")\n",
    "boxplot(dis~crim01, data=Boston01, xlab=\"crim01\", ylab=\"distance to Boston jobs\")\n",
    "boxplot(rad~crim01, data=Boston01, xlab=\"crim01\", ylab=\"access radial highways index\")\n",
    "boxplot(tax~crim01, data=Boston01, xlab=\"crim01\", ylab=\"tax rate\")\n",
    "boxplot(ptratio~crim01, data=Boston01, xlab=\"crim01\", ylab=\"pupil to teacher ratio\")\n",
    "boxplot(black~crim01, data=Boston01, xlab=\"crim01\", ylab=\"black proportion metric\")\n",
    "boxplot(lstat~crim01, data=Boston01, xlab=\"crim01\", ylab=\"lower status\")\n",
    "boxplot(medv~crim01, data=Boston01, xlab=\"crim01\", ylab=\"median home value\")"
   ]
  },
  {
   "cell_type": "markdown",
   "metadata": {},
   "source": [
    "From this it looks like the following variables might be promising candidates as predictors: non-retail business, nitrogen oxide condentration, portion built before 1940, distance to Boston jobs, and access to highways."
   ]
  },
  {
   "cell_type": "code",
   "execution_count": 4,
   "metadata": {
    "scrolled": true
   },
   "outputs": [
    {
     "data": {
      "text/html": [
       "<table>\n",
       "<thead><tr><th></th><th scope=col>crim</th><th scope=col>zn</th><th scope=col>indus</th><th scope=col>chas</th><th scope=col>nox</th><th scope=col>rm</th><th scope=col>age</th><th scope=col>dis</th><th scope=col>rad</th><th scope=col>tax</th><th scope=col>ptratio</th><th scope=col>black</th><th scope=col>lstat</th><th scope=col>medv</th><th scope=col>crim01</th></tr></thead>\n",
       "<tbody>\n",
       "\t<tr><th scope=row>crim</th><td> 1.00000000 </td><td>-0.20046922 </td><td> 0.40658341 </td><td>-0.055891582</td><td> 0.42097171 </td><td>-0.21924670 </td><td> 0.35273425 </td><td>-0.37967009 </td><td> 0.625505145</td><td> 0.58276431 </td><td> 0.2899456  </td><td>-0.38506394 </td><td> 0.4556215  </td><td>-0.3883046  </td><td> 0.40939545 </td></tr>\n",
       "\t<tr><th scope=row>zn</th><td>-0.20046922 </td><td> 1.00000000 </td><td>-0.53382819 </td><td>-0.042696719</td><td>-0.51660371 </td><td> 0.31199059 </td><td>-0.56953734 </td><td> 0.66440822 </td><td>-0.311947826</td><td>-0.31456332 </td><td>-0.3916785  </td><td> 0.17552032 </td><td>-0.4129946  </td><td> 0.3604453  </td><td>-0.43615103 </td></tr>\n",
       "\t<tr><th scope=row>indus</th><td> 0.40658341 </td><td>-0.53382819 </td><td> 1.00000000 </td><td> 0.062938027</td><td> 0.76365145 </td><td>-0.39167585 </td><td> 0.64477851 </td><td>-0.70802699 </td><td> 0.595129275</td><td> 0.72076018 </td><td> 0.3832476  </td><td>-0.35697654 </td><td> 0.6037997  </td><td>-0.4837252  </td><td> 0.60326017 </td></tr>\n",
       "\t<tr><th scope=row>chas</th><td>-0.05589158 </td><td>-0.04269672 </td><td> 0.06293803 </td><td> 1.000000000</td><td> 0.09120281 </td><td> 0.09125123 </td><td> 0.08651777 </td><td>-0.09917578 </td><td>-0.007368241</td><td>-0.03558652 </td><td>-0.1215152  </td><td> 0.04878848 </td><td>-0.0539293  </td><td> 0.1752602  </td><td> 0.07009677 </td></tr>\n",
       "\t<tr><th scope=row>nox</th><td> 0.42097171 </td><td>-0.51660371 </td><td> 0.76365145 </td><td> 0.091202807</td><td> 1.00000000 </td><td>-0.30218819 </td><td> 0.73147010 </td><td>-0.76923011 </td><td> 0.611440563</td><td> 0.66802320 </td><td> 0.1889327  </td><td>-0.38005064 </td><td> 0.5908789  </td><td>-0.4273208  </td><td> 0.72323480 </td></tr>\n",
       "\t<tr><th scope=row>rm</th><td>-0.21924670 </td><td> 0.31199059 </td><td>-0.39167585 </td><td> 0.091251225</td><td>-0.30218819 </td><td> 1.00000000 </td><td>-0.24026493 </td><td> 0.20524621 </td><td>-0.209846668</td><td>-0.29204783 </td><td>-0.3555015  </td><td> 0.12806864 </td><td>-0.6138083  </td><td> 0.6953599  </td><td>-0.15637178 </td></tr>\n",
       "\t<tr><th scope=row>age</th><td> 0.35273425 </td><td>-0.56953734 </td><td> 0.64477851 </td><td> 0.086517774</td><td> 0.73147010 </td><td>-0.24026493 </td><td> 1.00000000 </td><td>-0.74788054 </td><td> 0.456022452</td><td> 0.50645559 </td><td> 0.2615150  </td><td>-0.27353398 </td><td> 0.6023385  </td><td>-0.3769546  </td><td> 0.61393992 </td></tr>\n",
       "\t<tr><th scope=row>dis</th><td>-0.37967009 </td><td> 0.66440822 </td><td>-0.70802699 </td><td>-0.099175780</td><td>-0.76923011 </td><td> 0.20524621 </td><td>-0.74788054 </td><td> 1.00000000 </td><td>-0.494587930</td><td>-0.53443158 </td><td>-0.2324705  </td><td> 0.29151167 </td><td>-0.4969958  </td><td> 0.2499287  </td><td>-0.61634164 </td></tr>\n",
       "\t<tr><th scope=row>rad</th><td> 0.62550515 </td><td>-0.31194783 </td><td> 0.59512927 </td><td>-0.007368241</td><td> 0.61144056 </td><td>-0.20984667 </td><td> 0.45602245 </td><td>-0.49458793 </td><td> 1.000000000</td><td> 0.91022819 </td><td> 0.4647412  </td><td>-0.44441282 </td><td> 0.4886763  </td><td>-0.3816262  </td><td> 0.61978625 </td></tr>\n",
       "\t<tr><th scope=row>tax</th><td> 0.58276431 </td><td>-0.31456332 </td><td> 0.72076018 </td><td>-0.035586518</td><td> 0.66802320 </td><td>-0.29204783 </td><td> 0.50645559 </td><td>-0.53443158 </td><td> 0.910228189</td><td> 1.00000000 </td><td> 0.4608530  </td><td>-0.44180801 </td><td> 0.5439934  </td><td>-0.4685359  </td><td> 0.60874128 </td></tr>\n",
       "\t<tr><th scope=row>ptratio</th><td> 0.28994558 </td><td>-0.39167855 </td><td> 0.38324756 </td><td>-0.121515174</td><td> 0.18893268 </td><td>-0.35550149 </td><td> 0.26151501 </td><td>-0.23247054 </td><td> 0.464741179</td><td> 0.46085304 </td><td> 1.0000000  </td><td>-0.17738330 </td><td> 0.3740443  </td><td>-0.5077867  </td><td> 0.25356836 </td></tr>\n",
       "\t<tr><th scope=row>black</th><td>-0.38506394 </td><td> 0.17552032 </td><td>-0.35697654 </td><td> 0.048788485</td><td>-0.38005064 </td><td> 0.12806864 </td><td>-0.27353398 </td><td> 0.29151167 </td><td>-0.444412816</td><td>-0.44180801 </td><td>-0.1773833  </td><td> 1.00000000 </td><td>-0.3660869  </td><td> 0.3334608  </td><td>-0.35121093 </td></tr>\n",
       "\t<tr><th scope=row>lstat</th><td> 0.45562148 </td><td>-0.41299457 </td><td> 0.60379972 </td><td>-0.053929298</td><td> 0.59087892 </td><td>-0.61380827 </td><td> 0.60233853 </td><td>-0.49699583 </td><td> 0.488676335</td><td> 0.54399341 </td><td> 0.3740443  </td><td>-0.36608690 </td><td> 1.0000000  </td><td>-0.7376627  </td><td> 0.45326273 </td></tr>\n",
       "\t<tr><th scope=row>medv</th><td>-0.38830461 </td><td> 0.36044534 </td><td>-0.48372516 </td><td> 0.175260177</td><td>-0.42732077 </td><td> 0.69535995 </td><td>-0.37695457 </td><td> 0.24992873 </td><td>-0.381626231</td><td>-0.46853593 </td><td>-0.5077867  </td><td> 0.33346082 </td><td>-0.7376627  </td><td> 1.0000000  </td><td>-0.26301673 </td></tr>\n",
       "\t<tr><th scope=row>crim01</th><td> 0.40939545 </td><td>-0.43615103 </td><td> 0.60326017 </td><td> 0.070096774</td><td> 0.72323480 </td><td>-0.15637178 </td><td> 0.61393992 </td><td>-0.61634164 </td><td> 0.619786249</td><td> 0.60874128 </td><td> 0.2535684  </td><td>-0.35121093 </td><td> 0.4532627  </td><td>-0.2630167  </td><td> 1.00000000 </td></tr>\n",
       "</tbody>\n",
       "</table>\n"
      ],
      "text/latex": [
       "\\begin{tabular}{r|lllllllllllllll}\n",
       "  & crim & zn & indus & chas & nox & rm & age & dis & rad & tax & ptratio & black & lstat & medv & crim01\\\\\n",
       "\\hline\n",
       "\tcrim &  1.00000000  & -0.20046922  &  0.40658341  & -0.055891582 &  0.42097171  & -0.21924670  &  0.35273425  & -0.37967009  &  0.625505145 &  0.58276431  &  0.2899456   & -0.38506394  &  0.4556215   & -0.3883046   &  0.40939545 \\\\\n",
       "\tzn & -0.20046922  &  1.00000000  & -0.53382819  & -0.042696719 & -0.51660371  &  0.31199059  & -0.56953734  &  0.66440822  & -0.311947826 & -0.31456332  & -0.3916785   &  0.17552032  & -0.4129946   &  0.3604453   & -0.43615103 \\\\\n",
       "\tindus &  0.40658341  & -0.53382819  &  1.00000000  &  0.062938027 &  0.76365145  & -0.39167585  &  0.64477851  & -0.70802699  &  0.595129275 &  0.72076018  &  0.3832476   & -0.35697654  &  0.6037997   & -0.4837252   &  0.60326017 \\\\\n",
       "\tchas & -0.05589158  & -0.04269672  &  0.06293803  &  1.000000000 &  0.09120281  &  0.09125123  &  0.08651777  & -0.09917578  & -0.007368241 & -0.03558652  & -0.1215152   &  0.04878848  & -0.0539293   &  0.1752602   &  0.07009677 \\\\\n",
       "\tnox &  0.42097171  & -0.51660371  &  0.76365145  &  0.091202807 &  1.00000000  & -0.30218819  &  0.73147010  & -0.76923011  &  0.611440563 &  0.66802320  &  0.1889327   & -0.38005064  &  0.5908789   & -0.4273208   &  0.72323480 \\\\\n",
       "\trm & -0.21924670  &  0.31199059  & -0.39167585  &  0.091251225 & -0.30218819  &  1.00000000  & -0.24026493  &  0.20524621  & -0.209846668 & -0.29204783  & -0.3555015   &  0.12806864  & -0.6138083   &  0.6953599   & -0.15637178 \\\\\n",
       "\tage &  0.35273425  & -0.56953734  &  0.64477851  &  0.086517774 &  0.73147010  & -0.24026493  &  1.00000000  & -0.74788054  &  0.456022452 &  0.50645559  &  0.2615150   & -0.27353398  &  0.6023385   & -0.3769546   &  0.61393992 \\\\\n",
       "\tdis & -0.37967009  &  0.66440822  & -0.70802699  & -0.099175780 & -0.76923011  &  0.20524621  & -0.74788054  &  1.00000000  & -0.494587930 & -0.53443158  & -0.2324705   &  0.29151167  & -0.4969958   &  0.2499287   & -0.61634164 \\\\\n",
       "\trad &  0.62550515  & -0.31194783  &  0.59512927  & -0.007368241 &  0.61144056  & -0.20984667  &  0.45602245  & -0.49458793  &  1.000000000 &  0.91022819  &  0.4647412   & -0.44441282  &  0.4886763   & -0.3816262   &  0.61978625 \\\\\n",
       "\ttax &  0.58276431  & -0.31456332  &  0.72076018  & -0.035586518 &  0.66802320  & -0.29204783  &  0.50645559  & -0.53443158  &  0.910228189 &  1.00000000  &  0.4608530   & -0.44180801  &  0.5439934   & -0.4685359   &  0.60874128 \\\\\n",
       "\tptratio &  0.28994558  & -0.39167855  &  0.38324756  & -0.121515174 &  0.18893268  & -0.35550149  &  0.26151501  & -0.23247054  &  0.464741179 &  0.46085304  &  1.0000000   & -0.17738330  &  0.3740443   & -0.5077867   &  0.25356836 \\\\\n",
       "\tblack & -0.38506394  &  0.17552032  & -0.35697654  &  0.048788485 & -0.38005064  &  0.12806864  & -0.27353398  &  0.29151167  & -0.444412816 & -0.44180801  & -0.1773833   &  1.00000000  & -0.3660869   &  0.3334608   & -0.35121093 \\\\\n",
       "\tlstat &  0.45562148  & -0.41299457  &  0.60379972  & -0.053929298 &  0.59087892  & -0.61380827  &  0.60233853  & -0.49699583  &  0.488676335 &  0.54399341  &  0.3740443   & -0.36608690  &  1.0000000   & -0.7376627   &  0.45326273 \\\\\n",
       "\tmedv & -0.38830461  &  0.36044534  & -0.48372516  &  0.175260177 & -0.42732077  &  0.69535995  & -0.37695457  &  0.24992873  & -0.381626231 & -0.46853593  & -0.5077867   &  0.33346082  & -0.7376627   &  1.0000000   & -0.26301673 \\\\\n",
       "\tcrim01 &  0.40939545  & -0.43615103  &  0.60326017  &  0.070096774 &  0.72323480  & -0.15637178  &  0.61393992  & -0.61634164  &  0.619786249 &  0.60874128  &  0.2535684   & -0.35121093  &  0.4532627   & -0.2630167   &  1.00000000 \\\\\n",
       "\\end{tabular}\n"
      ],
      "text/markdown": [
       "\n",
       "| <!--/--> | crim | zn | indus | chas | nox | rm | age | dis | rad | tax | ptratio | black | lstat | medv | crim01 | \n",
       "|---|---|---|---|---|---|---|---|---|---|---|---|---|---|---|\n",
       "| crim |  1.00000000  | -0.20046922  |  0.40658341  | -0.055891582 |  0.42097171  | -0.21924670  |  0.35273425  | -0.37967009  |  0.625505145 |  0.58276431  |  0.2899456   | -0.38506394  |  0.4556215   | -0.3883046   |  0.40939545  | \n",
       "| zn | -0.20046922  |  1.00000000  | -0.53382819  | -0.042696719 | -0.51660371  |  0.31199059  | -0.56953734  |  0.66440822  | -0.311947826 | -0.31456332  | -0.3916785   |  0.17552032  | -0.4129946   |  0.3604453   | -0.43615103  | \n",
       "| indus |  0.40658341  | -0.53382819  |  1.00000000  |  0.062938027 |  0.76365145  | -0.39167585  |  0.64477851  | -0.70802699  |  0.595129275 |  0.72076018  |  0.3832476   | -0.35697654  |  0.6037997   | -0.4837252   |  0.60326017  | \n",
       "| chas | -0.05589158  | -0.04269672  |  0.06293803  |  1.000000000 |  0.09120281  |  0.09125123  |  0.08651777  | -0.09917578  | -0.007368241 | -0.03558652  | -0.1215152   |  0.04878848  | -0.0539293   |  0.1752602   |  0.07009677  | \n",
       "| nox |  0.42097171  | -0.51660371  |  0.76365145  |  0.091202807 |  1.00000000  | -0.30218819  |  0.73147010  | -0.76923011  |  0.611440563 |  0.66802320  |  0.1889327   | -0.38005064  |  0.5908789   | -0.4273208   |  0.72323480  | \n",
       "| rm | -0.21924670  |  0.31199059  | -0.39167585  |  0.091251225 | -0.30218819  |  1.00000000  | -0.24026493  |  0.20524621  | -0.209846668 | -0.29204783  | -0.3555015   |  0.12806864  | -0.6138083   |  0.6953599   | -0.15637178  | \n",
       "| age |  0.35273425  | -0.56953734  |  0.64477851  |  0.086517774 |  0.73147010  | -0.24026493  |  1.00000000  | -0.74788054  |  0.456022452 |  0.50645559  |  0.2615150   | -0.27353398  |  0.6023385   | -0.3769546   |  0.61393992  | \n",
       "| dis | -0.37967009  |  0.66440822  | -0.70802699  | -0.099175780 | -0.76923011  |  0.20524621  | -0.74788054  |  1.00000000  | -0.494587930 | -0.53443158  | -0.2324705   |  0.29151167  | -0.4969958   |  0.2499287   | -0.61634164  | \n",
       "| rad |  0.62550515  | -0.31194783  |  0.59512927  | -0.007368241 |  0.61144056  | -0.20984667  |  0.45602245  | -0.49458793  |  1.000000000 |  0.91022819  |  0.4647412   | -0.44441282  |  0.4886763   | -0.3816262   |  0.61978625  | \n",
       "| tax |  0.58276431  | -0.31456332  |  0.72076018  | -0.035586518 |  0.66802320  | -0.29204783  |  0.50645559  | -0.53443158  |  0.910228189 |  1.00000000  |  0.4608530   | -0.44180801  |  0.5439934   | -0.4685359   |  0.60874128  | \n",
       "| ptratio |  0.28994558  | -0.39167855  |  0.38324756  | -0.121515174 |  0.18893268  | -0.35550149  |  0.26151501  | -0.23247054  |  0.464741179 |  0.46085304  |  1.0000000   | -0.17738330  |  0.3740443   | -0.5077867   |  0.25356836  | \n",
       "| black | -0.38506394  |  0.17552032  | -0.35697654  |  0.048788485 | -0.38005064  |  0.12806864  | -0.27353398  |  0.29151167  | -0.444412816 | -0.44180801  | -0.1773833   |  1.00000000  | -0.3660869   |  0.3334608   | -0.35121093  | \n",
       "| lstat |  0.45562148  | -0.41299457  |  0.60379972  | -0.053929298 |  0.59087892  | -0.61380827  |  0.60233853  | -0.49699583  |  0.488676335 |  0.54399341  |  0.3740443   | -0.36608690  |  1.0000000   | -0.7376627   |  0.45326273  | \n",
       "| medv | -0.38830461  |  0.36044534  | -0.48372516  |  0.175260177 | -0.42732077  |  0.69535995  | -0.37695457  |  0.24992873  | -0.381626231 | -0.46853593  | -0.5077867   |  0.33346082  | -0.7376627   |  1.0000000   | -0.26301673  | \n",
       "| crim01 |  0.40939545  | -0.43615103  |  0.60326017  |  0.070096774 |  0.72323480  | -0.15637178  |  0.61393992  | -0.61634164  |  0.619786249 |  0.60874128  |  0.2535684   | -0.35121093  |  0.4532627   | -0.2630167   |  1.00000000  | \n",
       "\n",
       "\n"
      ],
      "text/plain": [
       "        crim        zn          indus       chas         nox        \n",
       "crim     1.00000000 -0.20046922  0.40658341 -0.055891582  0.42097171\n",
       "zn      -0.20046922  1.00000000 -0.53382819 -0.042696719 -0.51660371\n",
       "indus    0.40658341 -0.53382819  1.00000000  0.062938027  0.76365145\n",
       "chas    -0.05589158 -0.04269672  0.06293803  1.000000000  0.09120281\n",
       "nox      0.42097171 -0.51660371  0.76365145  0.091202807  1.00000000\n",
       "rm      -0.21924670  0.31199059 -0.39167585  0.091251225 -0.30218819\n",
       "age      0.35273425 -0.56953734  0.64477851  0.086517774  0.73147010\n",
       "dis     -0.37967009  0.66440822 -0.70802699 -0.099175780 -0.76923011\n",
       "rad      0.62550515 -0.31194783  0.59512927 -0.007368241  0.61144056\n",
       "tax      0.58276431 -0.31456332  0.72076018 -0.035586518  0.66802320\n",
       "ptratio  0.28994558 -0.39167855  0.38324756 -0.121515174  0.18893268\n",
       "black   -0.38506394  0.17552032 -0.35697654  0.048788485 -0.38005064\n",
       "lstat    0.45562148 -0.41299457  0.60379972 -0.053929298  0.59087892\n",
       "medv    -0.38830461  0.36044534 -0.48372516  0.175260177 -0.42732077\n",
       "crim01   0.40939545 -0.43615103  0.60326017  0.070096774  0.72323480\n",
       "        rm          age         dis         rad          tax         ptratio   \n",
       "crim    -0.21924670  0.35273425 -0.37967009  0.625505145  0.58276431  0.2899456\n",
       "zn       0.31199059 -0.56953734  0.66440822 -0.311947826 -0.31456332 -0.3916785\n",
       "indus   -0.39167585  0.64477851 -0.70802699  0.595129275  0.72076018  0.3832476\n",
       "chas     0.09125123  0.08651777 -0.09917578 -0.007368241 -0.03558652 -0.1215152\n",
       "nox     -0.30218819  0.73147010 -0.76923011  0.611440563  0.66802320  0.1889327\n",
       "rm       1.00000000 -0.24026493  0.20524621 -0.209846668 -0.29204783 -0.3555015\n",
       "age     -0.24026493  1.00000000 -0.74788054  0.456022452  0.50645559  0.2615150\n",
       "dis      0.20524621 -0.74788054  1.00000000 -0.494587930 -0.53443158 -0.2324705\n",
       "rad     -0.20984667  0.45602245 -0.49458793  1.000000000  0.91022819  0.4647412\n",
       "tax     -0.29204783  0.50645559 -0.53443158  0.910228189  1.00000000  0.4608530\n",
       "ptratio -0.35550149  0.26151501 -0.23247054  0.464741179  0.46085304  1.0000000\n",
       "black    0.12806864 -0.27353398  0.29151167 -0.444412816 -0.44180801 -0.1773833\n",
       "lstat   -0.61380827  0.60233853 -0.49699583  0.488676335  0.54399341  0.3740443\n",
       "medv     0.69535995 -0.37695457  0.24992873 -0.381626231 -0.46853593 -0.5077867\n",
       "crim01  -0.15637178  0.61393992 -0.61634164  0.619786249  0.60874128  0.2535684\n",
       "        black       lstat      medv       crim01     \n",
       "crim    -0.38506394  0.4556215 -0.3883046  0.40939545\n",
       "zn       0.17552032 -0.4129946  0.3604453 -0.43615103\n",
       "indus   -0.35697654  0.6037997 -0.4837252  0.60326017\n",
       "chas     0.04878848 -0.0539293  0.1752602  0.07009677\n",
       "nox     -0.38005064  0.5908789 -0.4273208  0.72323480\n",
       "rm       0.12806864 -0.6138083  0.6953599 -0.15637178\n",
       "age     -0.27353398  0.6023385 -0.3769546  0.61393992\n",
       "dis      0.29151167 -0.4969958  0.2499287 -0.61634164\n",
       "rad     -0.44441282  0.4886763 -0.3816262  0.61978625\n",
       "tax     -0.44180801  0.5439934 -0.4685359  0.60874128\n",
       "ptratio -0.17738330  0.3740443 -0.5077867  0.25356836\n",
       "black    1.00000000 -0.3660869  0.3334608 -0.35121093\n",
       "lstat   -0.36608690  1.0000000 -0.7376627  0.45326273\n",
       "medv     0.33346082 -0.7376627  1.0000000 -0.26301673\n",
       "crim01  -0.35121093  0.4532627 -0.2630167  1.00000000"
      ]
     },
     "metadata": {},
     "output_type": "display_data"
    }
   ],
   "source": [
    "cor(Boston01)"
   ]
  },
  {
   "cell_type": "markdown",
   "metadata": {},
   "source": [
    "The strongest correlations with our crime rate flag appear to be: indus, nox, age, dis, and rad. "
   ]
  },
  {
   "cell_type": "code",
   "execution_count": 5,
   "metadata": {},
   "outputs": [
    {
     "data": {
      "text/html": [
       "146"
      ],
      "text/latex": [
       "146"
      ],
      "text/markdown": [
       "146"
      ],
      "text/plain": [
       "[1] 146"
      ]
     },
     "metadata": {},
     "output_type": "display_data"
    },
    {
     "data": {
      "text/html": [
       "360"
      ],
      "text/latex": [
       "360"
      ],
      "text/markdown": [
       "360"
      ],
      "text/plain": [
       "[1] 360"
      ]
     },
     "metadata": {},
     "output_type": "display_data"
    }
   ],
   "source": [
    "#will randomly assign 30% of data to test set. \n",
    "set.seed(1)\n",
    "split = as.matrix(runif(nrow(Boston01)))\n",
    "Boston01Test = Boston01[split>0.7,] #again, comma is super important!\n",
    "Boston01Train = Boston01[split<=0.7,] \n",
    "nrow(Boston01Test)\n",
    "nrow(Boston01Train)"
   ]
  },
  {
   "cell_type": "code",
   "execution_count": 17,
   "metadata": {},
   "outputs": [
    {
     "data": {
      "text/plain": [
       "\n",
       "Call:\n",
       "glm(formula = crim01 ~ indus + chas + nox + rm + age + dis + \n",
       "    rad + tax + ptratio + black + lstat + medv, data = Boston01Train)\n",
       "\n",
       "Deviance Residuals: \n",
       "     Min        1Q    Median        3Q       Max  \n",
       "-0.64276  -0.20166  -0.05624   0.17129   0.88872  \n",
       "\n",
       "Coefficients:\n",
       "              Estimate Std. Error t value Pr(>|t|)    \n",
       "(Intercept) -1.4232020  0.4271375  -3.332 0.000955 ***\n",
       "indus        0.0043242  0.0048755   0.887 0.375731    \n",
       "chas         0.0272931  0.0673788   0.405 0.685676    \n",
       "nox          1.8690690  0.3107044   6.016 4.55e-09 ***\n",
       "rm           0.0163998  0.0383504   0.428 0.669186    \n",
       "age          0.0030524  0.0010832   2.818 0.005109 ** \n",
       "dis         -0.0046626  0.0145155  -0.321 0.748242    \n",
       "rad          0.0172941  0.0051783   3.340 0.000930 ***\n",
       "tax         -0.0002908  0.0003017  -0.964 0.335875    \n",
       "ptratio      0.0187263  0.0105425   1.776 0.076565 .  \n",
       "black       -0.0002454  0.0002268  -1.082 0.279996    \n",
       "lstat        0.0033465  0.0045641   0.733 0.463922    \n",
       "medv         0.0089204  0.0035628   2.504 0.012745 *  \n",
       "---\n",
       "Signif. codes:  0 '***' 0.001 '**' 0.01 '*' 0.05 '.' 0.1 ' ' 1\n",
       "\n",
       "(Dispersion parameter for gaussian family taken to be 0.1006323)\n",
       "\n",
       "    Null deviance: 89.989  on 359  degrees of freedom\n",
       "Residual deviance: 34.919  on 347  degrees of freedom\n",
       "AIC: 209.73\n",
       "\n",
       "Number of Fisher Scoring iterations: 2\n"
      ]
     },
     "metadata": {},
     "output_type": "display_data"
    }
   ],
   "source": [
    "#let's try a glm with everything in\n",
    "glmfit = glm(crim01~indus + chas + nox + rm + age + dis +rad + tax + ptratio + black + lstat + medv, data = Boston01Train)\n",
    "summary(glmfit)"
   ]
  },
  {
   "cell_type": "markdown",
   "metadata": {},
   "source": [
    "medv is also showing up as significant. indus and dis are not significant so must be correlated with other predictors. ptratio would be signifiant at the 10% level. Will try a glm witho ptratio and medv and then one without them."
   ]
  },
  {
   "cell_type": "code",
   "execution_count": 6,
   "metadata": {},
   "outputs": [
    {
     "data": {
      "text/plain": [
       "\n",
       "Call:\n",
       "glm(formula = crim01 ~ nox + age + rad, family = binomial, data = Boston01Train)\n",
       "\n",
       "Deviance Residuals: \n",
       "     Min        1Q    Median        3Q       Max  \n",
       "-1.96063  -0.28690   0.00032   0.01510   2.68473  \n",
       "\n",
       "Coefficients:\n",
       "             Estimate Std. Error z value Pr(>|z|)    \n",
       "(Intercept) -18.11182    2.46600  -7.345 2.06e-13 ***\n",
       "nox          26.64955    4.65073   5.730 1.00e-08 ***\n",
       "age           0.01213    0.01011   1.200     0.23    \n",
       "rad           0.55320    0.11661   4.744 2.09e-06 ***\n",
       "---\n",
       "Signif. codes:  0 '***' 0.001 '**' 0.01 '*' 0.05 '.' 0.1 ' ' 1\n",
       "\n",
       "(Dispersion parameter for binomial family taken to be 1)\n",
       "\n",
       "    Null deviance: 499.02  on 359  degrees of freedom\n",
       "Residual deviance: 179.98  on 356  degrees of freedom\n",
       "AIC: 187.98\n",
       "\n",
       "Number of Fisher Scoring iterations: 8\n"
      ]
     },
     "metadata": {},
     "output_type": "display_data"
    },
    {
     "data": {
      "text/plain": [
       "       \n",
       "glmpred  0  1\n",
       "      0 67 15\n",
       "      1  8 56"
      ]
     },
     "metadata": {},
     "output_type": "display_data"
    },
    {
     "data": {
      "text/html": [
       "0.842465753424658"
      ],
      "text/latex": [
       "0.842465753424658"
      ],
      "text/markdown": [
       "0.842465753424658"
      ],
      "text/plain": [
       "[1] 0.8424658"
      ]
     },
     "metadata": {},
     "output_type": "display_data"
    },
    {
     "data": {
      "text/html": [
       "0.157534246575342"
      ],
      "text/latex": [
       "0.157534246575342"
      ],
      "text/markdown": [
       "0.157534246575342"
      ],
      "text/plain": [
       "[1] 0.1575342"
      ]
     },
     "metadata": {},
     "output_type": "display_data"
    }
   ],
   "source": [
    "glmfit = glm(crim01~nox + age + rad, data = Boston01Train, family=binomial)\n",
    "summary(glmfit)\n",
    "glmprobs=predict(glmfit, Boston01Test, type=\"response\")\n",
    "glmpred=rep(0, nrow(Boston01Test))\n",
    "glmpred[glmprobs>.5]=1\n",
    "table(glmpred, Boston01Test$crim01)\n",
    "mean(glmpred==Boston01Test$crim01)\n",
    "mean(glmpred!=Boston01Test$crim01)"
   ]
  },
  {
   "cell_type": "markdown",
   "metadata": {},
   "source": [
    "Hmm removing the other vars made age insignificant. Will put them back in and see if I get a better test error."
   ]
  },
  {
   "cell_type": "code",
   "execution_count": 7,
   "metadata": {},
   "outputs": [
    {
     "data": {
      "text/plain": [
       "\n",
       "Call:\n",
       "glm(formula = crim01 ~ indus + nox + age + dis + rad, family = binomial, \n",
       "    data = Boston01Train)\n",
       "\n",
       "Deviance Residuals: \n",
       "     Min        1Q    Median        3Q       Max  \n",
       "-2.10446  -0.26015   0.00020   0.00582   2.81042  \n",
       "\n",
       "Coefficients:\n",
       "             Estimate Std. Error z value Pr(>|z|)    \n",
       "(Intercept) -23.14460    4.32137  -5.356 8.52e-08 ***\n",
       "indus        -0.07855    0.04897  -1.604    0.109    \n",
       "nox          36.37836    7.67274   4.741 2.12e-06 ***\n",
       "age           0.01526    0.01054   1.448    0.148    \n",
       "dis           0.15285    0.16670   0.917    0.359    \n",
       "rad           0.52077    0.11892   4.379 1.19e-05 ***\n",
       "---\n",
       "Signif. codes:  0 '***' 0.001 '**' 0.01 '*' 0.05 '.' 0.1 ' ' 1\n",
       "\n",
       "(Dispersion parameter for binomial family taken to be 1)\n",
       "\n",
       "    Null deviance: 499.02  on 359  degrees of freedom\n",
       "Residual deviance: 176.38  on 354  degrees of freedom\n",
       "AIC: 188.38\n",
       "\n",
       "Number of Fisher Scoring iterations: 8\n"
      ]
     },
     "metadata": {},
     "output_type": "display_data"
    },
    {
     "data": {
      "text/plain": [
       "       \n",
       "glmpred  0  1\n",
       "      0 67 16\n",
       "      1  8 55"
      ]
     },
     "metadata": {},
     "output_type": "display_data"
    },
    {
     "data": {
      "text/html": [
       "0.835616438356164"
      ],
      "text/latex": [
       "0.835616438356164"
      ],
      "text/markdown": [
       "0.835616438356164"
      ],
      "text/plain": [
       "[1] 0.8356164"
      ]
     },
     "metadata": {},
     "output_type": "display_data"
    },
    {
     "data": {
      "text/html": [
       "0.164383561643836"
      ],
      "text/latex": [
       "0.164383561643836"
      ],
      "text/markdown": [
       "0.164383561643836"
      ],
      "text/plain": [
       "[1] 0.1643836"
      ]
     },
     "metadata": {},
     "output_type": "display_data"
    }
   ],
   "source": [
    "glmfit = glm(crim01~indus + nox + age + dis + rad, data = Boston01Train, family=binomial)\n",
    "summary(glmfit)\n",
    "glmprobs=predict(glmfit, Boston01Test, type=\"response\")\n",
    "glmpred=rep(0, nrow(Boston01Test))\n",
    "glmpred[glmprobs>.5]=1\n",
    "table(glmpred, Boston01Test$crim01)\n",
    "mean(glmpred==Boston01Test$crim01)\n",
    "mean(glmpred!=Boston01Test$crim01)"
   ]
  },
  {
   "cell_type": "markdown",
   "metadata": {},
   "source": [
    "Hmm. Will try indus + nox + rad now."
   ]
  },
  {
   "cell_type": "code",
   "execution_count": 8,
   "metadata": {},
   "outputs": [
    {
     "data": {
      "text/plain": [
       "\n",
       "Call:\n",
       "glm(formula = crim01 ~ indus + nox + rad, family = binomial, \n",
       "    data = Boston01Train)\n",
       "\n",
       "Deviance Residuals: \n",
       "     Min        1Q    Median        3Q       Max  \n",
       "-2.14053  -0.29360   0.00022   0.00613   2.66912  \n",
       "\n",
       "Coefficients:\n",
       "             Estimate Std. Error z value Pr(>|z|)    \n",
       "(Intercept) -21.29874    3.12529  -6.815 9.43e-12 ***\n",
       "indus        -0.07357    0.04858  -1.515     0.13    \n",
       "nox          36.03226    6.20064   5.811 6.21e-09 ***\n",
       "rad           0.51952    0.11767   4.415 1.01e-05 ***\n",
       "---\n",
       "Signif. codes:  0 '***' 0.001 '**' 0.01 '*' 0.05 '.' 0.1 ' ' 1\n",
       "\n",
       "(Dispersion parameter for binomial family taken to be 1)\n",
       "\n",
       "    Null deviance: 499.02  on 359  degrees of freedom\n",
       "Residual deviance: 179.00  on 356  degrees of freedom\n",
       "AIC: 187\n",
       "\n",
       "Number of Fisher Scoring iterations: 8\n"
      ]
     },
     "metadata": {},
     "output_type": "display_data"
    },
    {
     "data": {
      "text/plain": [
       "       \n",
       "glmpred  0  1\n",
       "      0 67 15\n",
       "      1  8 56"
      ]
     },
     "metadata": {},
     "output_type": "display_data"
    },
    {
     "data": {
      "text/html": [
       "0.842465753424658"
      ],
      "text/latex": [
       "0.842465753424658"
      ],
      "text/markdown": [
       "0.842465753424658"
      ],
      "text/plain": [
       "[1] 0.8424658"
      ]
     },
     "metadata": {},
     "output_type": "display_data"
    },
    {
     "data": {
      "text/html": [
       "0.157534246575342"
      ],
      "text/latex": [
       "0.157534246575342"
      ],
      "text/markdown": [
       "0.157534246575342"
      ],
      "text/plain": [
       "[1] 0.1575342"
      ]
     },
     "metadata": {},
     "output_type": "display_data"
    }
   ],
   "source": [
    "glmfit = glm(crim01~indus + nox + rad, data = Boston01Train, family=binomial)\n",
    "summary(glmfit)\n",
    "glmprobs=predict(glmfit, Boston01Test, type=\"response\")\n",
    "glmpred=rep(0, nrow(Boston01Test))\n",
    "glmpred[glmprobs>.5]=1\n",
    "table(glmpred, Boston01Test$crim01)\n",
    "mean(glmpred==Boston01Test$crim01)\n",
    "mean(glmpred!=Boston01Test$crim01)"
   ]
  },
  {
   "cell_type": "markdown",
   "metadata": {},
   "source": [
    "Tied for lowest test error so far. Will try adding ptratio and medv to the original list above."
   ]
  },
  {
   "cell_type": "code",
   "execution_count": 10,
   "metadata": {},
   "outputs": [
    {
     "data": {
      "text/plain": [
       "\n",
       "Call:\n",
       "glm(formula = crim01 ~ indus + dis + nox + age + rad + ptratio + \n",
       "    medv, family = binomial, data = Boston01Train)\n",
       "\n",
       "Deviance Residuals: \n",
       "     Min        1Q    Median        3Q       Max  \n",
       "-1.97404  -0.20674   0.00006   0.00485   3.15063  \n",
       "\n",
       "Coefficients:\n",
       "             Estimate Std. Error z value Pr(>|z|)    \n",
       "(Intercept) -38.65542    6.90246  -5.600 2.14e-08 ***\n",
       "indus        -0.07140    0.05083  -1.405  0.16017    \n",
       "dis           0.40229    0.18756   2.145  0.03197 *  \n",
       "nox          44.49812    8.73379   5.095 3.49e-07 ***\n",
       "age           0.02754    0.01219   2.260  0.02381 *  \n",
       "rad           0.53252    0.12960   4.109 3.97e-05 ***\n",
       "ptratio       0.35103    0.11749   2.988  0.00281 ** \n",
       "medv          0.11758    0.03951   2.976  0.00292 ** \n",
       "---\n",
       "Signif. codes:  0 '***' 0.001 '**' 0.01 '*' 0.05 '.' 0.1 ' ' 1\n",
       "\n",
       "(Dispersion parameter for binomial family taken to be 1)\n",
       "\n",
       "    Null deviance: 499.02  on 359  degrees of freedom\n",
       "Residual deviance: 162.26  on 352  degrees of freedom\n",
       "AIC: 178.26\n",
       "\n",
       "Number of Fisher Scoring iterations: 8\n"
      ]
     },
     "metadata": {},
     "output_type": "display_data"
    },
    {
     "data": {
      "text/plain": [
       "       \n",
       "glmpred  0  1\n",
       "      0 68 12\n",
       "      1  7 59"
      ]
     },
     "metadata": {},
     "output_type": "display_data"
    },
    {
     "data": {
      "text/html": [
       "0.86986301369863"
      ],
      "text/latex": [
       "0.86986301369863"
      ],
      "text/markdown": [
       "0.86986301369863"
      ],
      "text/plain": [
       "[1] 0.869863"
      ]
     },
     "metadata": {},
     "output_type": "display_data"
    },
    {
     "data": {
      "text/html": [
       "0.13013698630137"
      ],
      "text/latex": [
       "0.13013698630137"
      ],
      "text/markdown": [
       "0.13013698630137"
      ],
      "text/plain": [
       "[1] 0.130137"
      ]
     },
     "metadata": {},
     "output_type": "display_data"
    }
   ],
   "source": [
    "glmfit = glm(crim01~indus + dis + nox + age + rad + ptratio + medv, data = Boston01Train, family=binomial)\n",
    "summary(glmfit)\n",
    "glmprobs=predict(glmfit, Boston01Test, type=\"response\")\n",
    "glmpred=rep(0, nrow(Boston01Test))\n",
    "glmpred[glmprobs>.5]=1\n",
    "table(glmpred, Boston01Test$crim01)\n",
    "mean(glmpred==Boston01Test$crim01)\n",
    "mean(glmpred!=Boston01Test$crim01)"
   ]
  },
  {
   "cell_type": "markdown",
   "metadata": {},
   "source": [
    "Best result so far. If I were doing this in real life I'd try some interaction effects but to keep this managable I'll switch to the other fitting techniques now."
   ]
  },
  {
   "cell_type": "code",
   "execution_count": 11,
   "metadata": {},
   "outputs": [
    {
     "data": {
      "text/plain": [
       "        Length Class  Mode     \n",
       "prior    2     -none- numeric  \n",
       "counts   2     -none- numeric  \n",
       "means   14     -none- numeric  \n",
       "scaling  7     -none- numeric  \n",
       "lev      2     -none- character\n",
       "svd      1     -none- numeric  \n",
       "N        1     -none- numeric  \n",
       "call     3     -none- call     \n",
       "terms    3     terms  call     \n",
       "xlevels  0     -none- list     "
      ]
     },
     "metadata": {},
     "output_type": "display_data"
    },
    {
     "data": {
      "text/plain": [
       "        \n",
       "ldaclass  0  1\n",
       "       0 68 16\n",
       "       1  7 55"
      ]
     },
     "metadata": {},
     "output_type": "display_data"
    },
    {
     "data": {
      "text/html": [
       "0.842465753424658"
      ],
      "text/latex": [
       "0.842465753424658"
      ],
      "text/markdown": [
       "0.842465753424658"
      ],
      "text/plain": [
       "[1] 0.8424658"
      ]
     },
     "metadata": {},
     "output_type": "display_data"
    },
    {
     "data": {
      "text/html": [
       "0.157534246575342"
      ],
      "text/latex": [
       "0.157534246575342"
      ],
      "text/markdown": [
       "0.157534246575342"
      ],
      "text/plain": [
       "[1] 0.1575342"
      ]
     },
     "metadata": {},
     "output_type": "display_data"
    }
   ],
   "source": [
    "ldafit = lda(crim01~indus + dis + nox + age + rad + ptratio + medv, data = Boston01Train)\n",
    "summary(ldafit)\n",
    "ldapred=predict(ldafit, Boston01Test)\n",
    "ldaclass=ldapred$class\n",
    "table(ldaclass, Boston01Test$crim01)\n",
    "mean(ldaclass==Boston01Test$crim01)\n",
    "mean(ldaclass!=Boston01Test$crim01)"
   ]
  },
  {
   "cell_type": "code",
   "execution_count": 13,
   "metadata": {},
   "outputs": [
    {
     "data": {
      "text/plain": [
       "        Length Class  Mode     \n",
       "prior    2     -none- numeric  \n",
       "counts   2     -none- numeric  \n",
       "means   14     -none- numeric  \n",
       "scaling 98     -none- numeric  \n",
       "ldet     2     -none- numeric  \n",
       "lev      2     -none- character\n",
       "N        1     -none- numeric  \n",
       "call     3     -none- call     \n",
       "terms    3     terms  call     \n",
       "xlevels  0     -none- list     "
      ]
     },
     "metadata": {},
     "output_type": "display_data"
    },
    {
     "data": {
      "text/plain": [
       "        \n",
       "qdaclass  0  1\n",
       "       0 75 17\n",
       "       1  0 54"
      ]
     },
     "metadata": {},
     "output_type": "display_data"
    },
    {
     "data": {
      "text/html": [
       "0.883561643835616"
      ],
      "text/latex": [
       "0.883561643835616"
      ],
      "text/markdown": [
       "0.883561643835616"
      ],
      "text/plain": [
       "[1] 0.8835616"
      ]
     },
     "metadata": {},
     "output_type": "display_data"
    },
    {
     "data": {
      "text/html": [
       "0.116438356164384"
      ],
      "text/latex": [
       "0.116438356164384"
      ],
      "text/markdown": [
       "0.116438356164384"
      ],
      "text/plain": [
       "[1] 0.1164384"
      ]
     },
     "metadata": {},
     "output_type": "display_data"
    }
   ],
   "source": [
    "qdafit = qda(crim01~indus + dis + nox + age + rad + ptratio + medv, data = Boston01Train)\n",
    "summary(qdafit)\n",
    "qdapred=predict(qdafit, Boston01Test)\n",
    "qdaclass=qdapred$class\n",
    "table(qdaclass, Boston01Test$crim01)\n",
    "mean(qdaclass==Boston01Test$crim01)\n",
    "mean(qdaclass!=Boston01Test$crim01)"
   ]
  },
  {
   "cell_type": "markdown",
   "metadata": {},
   "source": [
    "QDA actually does really well on this. I just want to graph the original crime rate variable against the other variables to maybe see why"
   ]
  },
  {
   "cell_type": "code",
   "execution_count": 14,
   "metadata": {},
   "outputs": [
    {
     "data": {
      "image/png": "[encoded data removed]",
      "text/plain": [
       "plot without title"
      ]
     },
     "metadata": {},
     "output_type": "display_data"
    }
   ],
   "source": [
    "par(mfrow=c(2,4))\n",
    "plot(Boston$indus, Boston$crim)\n",
    "plot(Boston$dis, Boston$crim)\n",
    "plot(Boston$nox, Boston$crim)\n",
    "plot(Boston$age, Boston$crim)\n",
    "plot(Boston$rad, Boston$crim)\n",
    "plot(Boston$ptratio, Boston$crim)\n",
    "plot(Boston$medv, Boston$crim)"
   ]
  },
  {
   "cell_type": "markdown",
   "metadata": {},
   "source": [
    "Some of those look like they might be best modeled nonlinearly, like dis, nox, age, and medv. Maybe that's why QDA does well. "
   ]
  },
  {
   "cell_type": "code",
   "execution_count": 15,
   "metadata": {},
   "outputs": [
    {
     "data": {
      "text/plain": [
       "       \n",
       "knnpred  0  1\n",
       "      0 62 12\n",
       "      1 13 59"
      ]
     },
     "metadata": {},
     "output_type": "display_data"
    },
    {
     "data": {
      "text/html": [
       "0.828767123287671"
      ],
      "text/latex": [
       "0.828767123287671"
      ],
      "text/markdown": [
       "0.828767123287671"
      ],
      "text/plain": [
       "[1] 0.8287671"
      ]
     },
     "metadata": {},
     "output_type": "display_data"
    },
    {
     "data": {
      "text/html": [
       "0.171232876712329"
      ],
      "text/latex": [
       "0.171232876712329"
      ],
      "text/markdown": [
       "0.171232876712329"
      ],
      "text/plain": [
       "[1] 0.1712329"
      ]
     },
     "metadata": {},
     "output_type": "display_data"
    },
    {
     "data": {
      "text/plain": [
       "       \n",
       "knnpred  0  1\n",
       "      0 58 11\n",
       "      1 17 60"
      ]
     },
     "metadata": {},
     "output_type": "display_data"
    },
    {
     "data": {
      "text/html": [
       "0.808219178082192"
      ],
      "text/latex": [
       "0.808219178082192"
      ],
      "text/markdown": [
       "0.808219178082192"
      ],
      "text/plain": [
       "[1] 0.8082192"
      ]
     },
     "metadata": {},
     "output_type": "display_data"
    },
    {
     "data": {
      "text/html": [
       "0.191780821917808"
      ],
      "text/latex": [
       "0.191780821917808"
      ],
      "text/markdown": [
       "0.191780821917808"
      ],
      "text/plain": [
       "[1] 0.1917808"
      ]
     },
     "metadata": {},
     "output_type": "display_data"
    },
    {
     "data": {
      "text/plain": [
       "       \n",
       "knnpred  0  1\n",
       "      0 68 14\n",
       "      1  7 57"
      ]
     },
     "metadata": {},
     "output_type": "display_data"
    },
    {
     "data": {
      "text/html": [
       "0.856164383561644"
      ],
      "text/latex": [
       "0.856164383561644"
      ],
      "text/markdown": [
       "0.856164383561644"
      ],
      "text/plain": [
       "[1] 0.8561644"
      ]
     },
     "metadata": {},
     "output_type": "display_data"
    },
    {
     "data": {
      "text/html": [
       "0.143835616438356"
      ],
      "text/latex": [
       "0.143835616438356"
      ],
      "text/markdown": [
       "0.143835616438356"
      ],
      "text/plain": [
       "[1] 0.1438356"
      ]
     },
     "metadata": {},
     "output_type": "display_data"
    },
    {
     "data": {
      "text/plain": [
       "       \n",
       "knnpred  0  1\n",
       "      0 64 10\n",
       "      1 11 61"
      ]
     },
     "metadata": {},
     "output_type": "display_data"
    },
    {
     "data": {
      "text/html": [
       "0.856164383561644"
      ],
      "text/latex": [
       "0.856164383561644"
      ],
      "text/markdown": [
       "0.856164383561644"
      ],
      "text/plain": [
       "[1] 0.8561644"
      ]
     },
     "metadata": {},
     "output_type": "display_data"
    },
    {
     "data": {
      "text/html": [
       "0.143835616438356"
      ],
      "text/latex": [
       "0.143835616438356"
      ],
      "text/markdown": [
       "0.143835616438356"
      ],
      "text/plain": [
       "[1] 0.1438356"
      ]
     },
     "metadata": {},
     "output_type": "display_data"
    },
    {
     "data": {
      "text/plain": [
       "       \n",
       "knnpred  0  1\n",
       "      0 66 14\n",
       "      1  9 57"
      ]
     },
     "metadata": {},
     "output_type": "display_data"
    },
    {
     "data": {
      "text/html": [
       "0.842465753424658"
      ],
      "text/latex": [
       "0.842465753424658"
      ],
      "text/markdown": [
       "0.842465753424658"
      ],
      "text/plain": [
       "[1] 0.8424658"
      ]
     },
     "metadata": {},
     "output_type": "display_data"
    },
    {
     "data": {
      "text/html": [
       "0.157534246575342"
      ],
      "text/latex": [
       "0.157534246575342"
      ],
      "text/markdown": [
       "0.157534246575342"
      ],
      "text/plain": [
       "[1] 0.1575342"
      ]
     },
     "metadata": {},
     "output_type": "display_data"
    },
    {
     "data": {
      "text/plain": [
       "       \n",
       "knnpred  0  1\n",
       "      0 62 13\n",
       "      1 13 58"
      ]
     },
     "metadata": {},
     "output_type": "display_data"
    },
    {
     "data": {
      "text/html": [
       "0.821917808219178"
      ],
      "text/latex": [
       "0.821917808219178"
      ],
      "text/markdown": [
       "0.821917808219178"
      ],
      "text/plain": [
       "[1] 0.8219178"
      ]
     },
     "metadata": {},
     "output_type": "display_data"
    },
    {
     "data": {
      "text/html": [
       "0.178082191780822"
      ],
      "text/latex": [
       "0.178082191780822"
      ],
      "text/markdown": [
       "0.178082191780822"
      ],
      "text/plain": [
       "[1] 0.1780822"
      ]
     },
     "metadata": {},
     "output_type": "display_data"
    }
   ],
   "source": [
    "library(class)\n",
    "#need matrix function because knn wants a matrix not a vector for train and test\n",
    "trainX=cbind(Boston01Train$indus, Boston01Train$dis, Boston01Train$nox, Boston01Train$age, Boston01Train$rad, Boston01Train$ptratio, Boston01Train$medv)\n",
    "testX=cbind(Boston01Test$indus, Boston01Test$dis, Boston01Test$nox, Boston01Test$age, Boston01Test$rad, Boston01Test$ptratio, Boston01Test$medv)\n",
    "set.seed(1)\n",
    "knnpred=knn(trainX, testX, Boston01Train$crim01, k=1)\n",
    "table(knnpred, Boston01Test$crim01)\n",
    "mean(knnpred==Boston01Test$crim01)\n",
    "mean(knnpred!=Boston01Test$crim01)\n",
    "knnpred=knn(trainX, testX, Boston01Train$crim01, k=2)\n",
    "table(knnpred, Boston01Test$crim01)\n",
    "mean(knnpred==Boston01Test$crim01)\n",
    "mean(knnpred!=Boston01Test$crim01)\n",
    "knnpred=knn(trainX, testX, Boston01Train$crim01, k=3)\n",
    "table(knnpred, Boston01Test$crim01)\n",
    "mean(knnpred==Boston01Test$crim01)\n",
    "mean(knnpred!=Boston01Test$crim01)\n",
    "knnpred=knn(trainX, testX, Boston01Train$crim01, k=4)\n",
    "table(knnpred, Boston01Test$crim01)\n",
    "mean(knnpred==Boston01Test$crim01)\n",
    "mean(knnpred!=Boston01Test$crim01)\n",
    "knnpred=knn(trainX, testX, Boston01Train$crim01, k=5)\n",
    "table(knnpred, Boston01Test$crim01)\n",
    "mean(knnpred==Boston01Test$crim01)\n",
    "mean(knnpred!=Boston01Test$crim01)\n",
    "knnpred=knn(trainX, testX, Boston01Train$crim01, k=6)\n",
    "table(knnpred, Boston01Test$crim01)\n",
    "mean(knnpred==Boston01Test$crim01)\n",
    "mean(knnpred!=Boston01Test$crim01)"
   ]
  },
  {
   "cell_type": "markdown",
   "metadata": {},
   "source": [
    "None of these outperform the QDA result."
   ]
  }
 ],
 "metadata": {
  "kernelspec": {
   "display_name": "R",
   "language": "R",
   "name": "ir"
  },
  "language_info": {
   "codemirror_mode": "r",
   "file_extension": ".r",
   "mimetype": "text/x-r-source",
   "name": "R",
   "pygments_lexer": "r",
   "version": "3.4.0"
  }
 },
 "nbformat": 4,
 "nbformat_minor": 2
}
